{
 "cells": [
  {
   "cell_type": "code",
   "execution_count": 99,
   "id": "1d092dbf",
   "metadata": {
    "cellId": "ctv52ez9fvv1lejrena1l3"
   },
   "outputs": [
    {
     "name": "stdout",
     "output_type": "stream",
     "text": [
      "Defaulting to user installation because normal site-packages is not writeable\n",
      "Requirement already satisfied: tflite-model-maker in /home/jupyter/.local/lib/python3.8/site-packages (0.4.2)\n",
      "Requirement already satisfied: tflite-support>=0.4.2 in /home/jupyter/.local/lib/python3.8/site-packages (from tflite-model-maker) (0.4.3)\n",
      "Requirement already satisfied: tensorflow-hub<0.13,>=0.7.0 in /home/jupyter/.local/lib/python3.8/site-packages (from tflite-model-maker) (0.12.0)\n",
      "Collecting urllib3!=1.25.0,!=1.25.1,<1.26,>=1.21.1\n",
      "  Downloading urllib3-1.25.11-py2.py3-none-any.whl (127 kB)\n",
      "     |████████████████████████████████| 127 kB 3.2 MB/s            \n",
      "\u001b[?25hRequirement already satisfied: pillow>=7.0.0 in /kernel/lib/python3.8/site-packages (from tflite-model-maker) (9.5.0)\n",
      "Requirement already satisfied: numba==0.53 in /home/jupyter/.local/lib/python3.8/site-packages (from tflite-model-maker) (0.53.0)\n",
      "Requirement already satisfied: six>=1.12.0 in /kernel/lib/python3.8/site-packages (from tflite-model-maker) (1.16.0)\n",
      "Requirement already satisfied: tensorflow-model-optimization>=0.5 in /home/jupyter/.local/lib/python3.8/site-packages (from tflite-model-maker) (0.7.5)\n",
      "Requirement already satisfied: sentencepiece>=0.1.91 in /home/jupyter/.local/lib/python3.8/site-packages (from tflite-model-maker) (0.1.99)\n",
      "Requirement already satisfied: tensorflow>=2.6.0 in /home/jupyter/.local/lib/python3.8/site-packages (from tflite-model-maker) (2.8.4)\n",
      "Requirement already satisfied: tensorflowjs<3.19.0,>=2.4.0 in /home/jupyter/.local/lib/python3.8/site-packages (from tflite-model-maker) (3.18.0)\n",
      "Requirement already satisfied: tf-models-official==2.3.0 in /home/jupyter/.local/lib/python3.8/site-packages (from tflite-model-maker) (2.3.0)\n",
      "Requirement already satisfied: absl-py>=0.10.0 in /home/jupyter/.local/lib/python3.8/site-packages (from tflite-model-maker) (1.4.0)\n",
      "Requirement already satisfied: PyYAML>=5.1 in /usr/local/lib/python3.8/dist-packages (from tflite-model-maker) (5.3.1)\n",
      "Requirement already satisfied: neural-structured-learning>=1.3.1 in /home/jupyter/.local/lib/python3.8/site-packages (from tflite-model-maker) (1.4.0)\n",
      "Requirement already satisfied: numpy>=1.17.3 in /home/jupyter/.local/lib/python3.8/site-packages (from tflite-model-maker) (1.24.3)\n",
      "Requirement already satisfied: flatbuffers>=2.0 in /home/jupyter/.local/lib/python3.8/site-packages (from tflite-model-maker) (23.5.26)\n",
      "Requirement already satisfied: lxml>=4.6.1 in /home/jupyter/.local/lib/python3.8/site-packages (from tflite-model-maker) (4.9.2)\n",
      "Requirement already satisfied: fire>=0.3.1 in /home/jupyter/.local/lib/python3.8/site-packages (from tflite-model-maker) (0.5.0)\n",
      "Requirement already satisfied: Cython>=0.29.13 in /kernel/lib/python3.8/site-packages (from tflite-model-maker) (0.29.26)\n",
      "Requirement already satisfied: tensorflow-addons>=0.11.2 in /home/jupyter/.local/lib/python3.8/site-packages (from tflite-model-maker) (0.20.0)\n",
      "Requirement already satisfied: scann==1.2.6 in /home/jupyter/.local/lib/python3.8/site-packages (from tflite-model-maker) (1.2.6)\n",
      "Requirement already satisfied: tensorflow-datasets>=2.1.0 in /usr/local/lib/python3.8/dist-packages (from tflite-model-maker) (2.1.0)\n",
      "Requirement already satisfied: matplotlib<3.5.0,>=3.0.3 in /usr/local/lib/python3.8/dist-packages (from tflite-model-maker) (3.1.3)\n",
      "Requirement already satisfied: librosa==0.8.1 in /home/jupyter/.local/lib/python3.8/site-packages (from tflite-model-maker) (0.8.1)\n",
      "Requirement already satisfied: scikit-learn!=0.19.0,>=0.14.0 in /usr/local/lib/python3.8/dist-packages (from librosa==0.8.1->tflite-model-maker) (0.22.1)\n",
      "Requirement already satisfied: scipy>=1.0.0 in /usr/local/lib/python3.8/dist-packages (from librosa==0.8.1->tflite-model-maker) (1.4.1)\n",
      "Requirement already satisfied: packaging>=20.0 in /kernel/lib/python3.8/site-packages (from librosa==0.8.1->tflite-model-maker) (20.9)\n",
      "Requirement already satisfied: joblib>=0.14 in /usr/local/lib/python3.8/dist-packages (from librosa==0.8.1->tflite-model-maker) (1.1.0)\n",
      "Requirement already satisfied: audioread>=2.0.0 in /usr/local/lib/python3.8/dist-packages (from librosa==0.8.1->tflite-model-maker) (2.1.9)\n",
      "Requirement already satisfied: pooch>=1.0 in /usr/local/lib/python3.8/dist-packages (from librosa==0.8.1->tflite-model-maker) (1.5.2)\n",
      "Requirement already satisfied: decorator>=3.0.0 in /kernel/lib/python3.8/site-packages (from librosa==0.8.1->tflite-model-maker) (5.1.1)\n",
      "Requirement already satisfied: resampy>=0.2.2 in /usr/local/lib/python3.8/dist-packages (from librosa==0.8.1->tflite-model-maker) (0.2.2)\n",
      "Requirement already satisfied: soundfile>=0.10.2 in /usr/local/lib/python3.8/dist-packages (from librosa==0.8.1->tflite-model-maker) (0.10.3.post1)\n",
      "Requirement already satisfied: llvmlite<0.37,>=0.36.0rc1 in /home/jupyter/.local/lib/python3.8/site-packages (from numba==0.53->tflite-model-maker) (0.36.0)\n",
      "Requirement already satisfied: setuptools in /kernel/lib/python3.8/site-packages (from numba==0.53->tflite-model-maker) (51.0.0)\n",
      "Requirement already satisfied: pandas>=0.22.0 in /usr/local/lib/python3.8/dist-packages (from tf-models-official==2.3.0->tflite-model-maker) (0.25.3)\n",
      "Requirement already satisfied: google-cloud-bigquery>=0.31.0 in /home/jupyter/.local/lib/python3.8/site-packages (from tf-models-official==2.3.0->tflite-model-maker) (3.11.0)\n",
      "Requirement already satisfied: tf-slim>=1.1.0 in /home/jupyter/.local/lib/python3.8/site-packages (from tf-models-official==2.3.0->tflite-model-maker) (1.1.0)\n",
      "Requirement already satisfied: gin-config in /home/jupyter/.local/lib/python3.8/site-packages (from tf-models-official==2.3.0->tflite-model-maker) (0.5.0)\n",
      "Requirement already satisfied: py-cpuinfo>=3.3.0 in /home/jupyter/.local/lib/python3.8/site-packages (from tf-models-official==2.3.0->tflite-model-maker) (9.0.0)\n",
      "Requirement already satisfied: opencv-python-headless in /home/jupyter/.local/lib/python3.8/site-packages (from tf-models-official==2.3.0->tflite-model-maker) (4.7.0.72)\n",
      "Requirement already satisfied: google-api-python-client>=1.6.7 in /usr/local/lib/python3.8/dist-packages (from tf-models-official==2.3.0->tflite-model-maker) (1.8.0)\n",
      "Requirement already satisfied: kaggle>=1.3.9 in /usr/local/lib/python3.8/dist-packages (from tf-models-official==2.3.0->tflite-model-maker) (1.5.8)\n",
      "Requirement already satisfied: dataclasses in /usr/local/lib/python3.8/dist-packages (from tf-models-official==2.3.0->tflite-model-maker) (0.6)\n",
      "Requirement already satisfied: psutil>=5.4.3 in /kernel/lib/python3.8/site-packages (from tf-models-official==2.3.0->tflite-model-maker) (5.7.3)\n",
      "Requirement already satisfied: termcolor in /usr/local/lib/python3.8/dist-packages (from fire>=0.3.1->tflite-model-maker) (1.1.0)\n",
      "Requirement already satisfied: pyparsing!=2.0.4,!=2.1.2,!=2.1.6,>=2.0.1 in /kernel/lib/python3.8/site-packages (from matplotlib<3.5.0,>=3.0.3->tflite-model-maker) (2.4.7)\n",
      "Requirement already satisfied: cycler>=0.10 in /kernel/lib/python3.8/site-packages (from matplotlib<3.5.0,>=3.0.3->tflite-model-maker) (0.11.0)\n",
      "Requirement already satisfied: kiwisolver>=1.0.1 in /kernel/lib/python3.8/site-packages (from matplotlib<3.5.0,>=3.0.3->tflite-model-maker) (1.4.4)\n",
      "Requirement already satisfied: python-dateutil>=2.1 in /kernel/lib/python3.8/site-packages (from matplotlib<3.5.0,>=3.0.3->tflite-model-maker) (2.8.2)\n",
      "Requirement already satisfied: attrs in /kernel/lib/python3.8/site-packages (from neural-structured-learning>=1.3.1->tflite-model-maker) (23.1.0)\n",
      "Requirement already satisfied: astunparse>=1.6.0 in /usr/local/lib/python3.8/dist-packages (from tensorflow>=2.6.0->tflite-model-maker) (1.6.3)\n",
      "Requirement already satisfied: google-pasta>=0.1.1 in /usr/local/lib/python3.8/dist-packages (from tensorflow>=2.6.0->tflite-model-maker) (0.2.0)\n",
      "Requirement already satisfied: keras<2.9,>=2.8.0rc0 in /home/jupyter/.local/lib/python3.8/site-packages (from tensorflow>=2.6.0->tflite-model-maker) (2.8.0)\n",
      "Requirement already satisfied: keras-preprocessing>=1.1.1 in /usr/local/lib/python3.8/dist-packages (from tensorflow>=2.6.0->tflite-model-maker) (1.1.2)\n",
      "Requirement already satisfied: libclang>=9.0.1 in /home/jupyter/.local/lib/python3.8/site-packages (from tensorflow>=2.6.0->tflite-model-maker) (16.0.0)\n",
      "Requirement already satisfied: protobuf<3.20,>=3.9.2 in /home/jupyter/.local/lib/python3.8/site-packages (from tensorflow>=2.6.0->tflite-model-maker) (3.19.6)\n",
      "Requirement already satisfied: h5py>=2.9.0 in /usr/local/lib/python3.8/dist-packages (from tensorflow>=2.6.0->tflite-model-maker) (3.1.0)\n",
      "Requirement already satisfied: typing-extensions>=3.6.6 in /usr/local/lib/python3.8/dist-packages (from tensorflow>=2.6.0->tflite-model-maker) (3.7.4.3)\n",
      "Requirement already satisfied: tensorflow-estimator<2.9,>=2.8 in /home/jupyter/.local/lib/python3.8/site-packages (from tensorflow>=2.6.0->tflite-model-maker) (2.8.0)\n",
      "Requirement already satisfied: gast>=0.2.1 in /usr/local/lib/python3.8/dist-packages (from tensorflow>=2.6.0->tflite-model-maker) (0.4.0)\n",
      "Requirement already satisfied: tensorflow-io-gcs-filesystem>=0.23.1 in /home/jupyter/.local/lib/python3.8/site-packages (from tensorflow>=2.6.0->tflite-model-maker) (0.32.0)\n",
      "Requirement already satisfied: tensorboard<2.9,>=2.8 in /home/jupyter/.local/lib/python3.8/site-packages (from tensorflow>=2.6.0->tflite-model-maker) (2.8.0)\n",
      "Requirement already satisfied: wrapt>=1.11.0 in /kernel/lib/python3.8/site-packages (from tensorflow>=2.6.0->tflite-model-maker) (1.15.0)\n",
      "Requirement already satisfied: grpcio<2.0,>=1.24.3 in /home/jupyter/.local/lib/python3.8/site-packages (from tensorflow>=2.6.0->tflite-model-maker) (1.54.2)\n",
      "Requirement already satisfied: opt-einsum>=2.3.2 in /usr/local/lib/python3.8/dist-packages (from tensorflow>=2.6.0->tflite-model-maker) (3.3.0)\n",
      "Requirement already satisfied: typeguard<3.0.0,>=2.7 in /home/jupyter/.local/lib/python3.8/site-packages (from tensorflow-addons>=0.11.2->tflite-model-maker) (2.13.3)\n",
      "Requirement already satisfied: tqdm in /usr/local/lib/python3.8/dist-packages (from tensorflow-datasets>=2.1.0->tflite-model-maker) (4.50.0)\n",
      "Requirement already satisfied: promise in /usr/local/lib/python3.8/dist-packages (from tensorflow-datasets>=2.1.0->tflite-model-maker) (2.3)\n",
      "Requirement already satisfied: requests>=2.19.0 in /kernel/lib/python3.8/site-packages (from tensorflow-datasets>=2.1.0->tflite-model-maker) (2.25.1)\n",
      "Requirement already satisfied: tensorflow-metadata in /home/jupyter/.local/lib/python3.8/site-packages (from tensorflow-datasets>=2.1.0->tflite-model-maker) (1.13.0)\n",
      "Requirement already satisfied: future in /usr/local/lib/python3.8/dist-packages (from tensorflow-datasets>=2.1.0->tflite-model-maker) (0.18.2)\n",
      "Requirement already satisfied: dill in /usr/local/lib/python3.8/dist-packages (from tensorflow-datasets>=2.1.0->tflite-model-maker) (0.3.4)\n",
      "Requirement already satisfied: dm-tree~=0.1.1 in /home/jupyter/.local/lib/python3.8/site-packages (from tensorflow-model-optimization>=0.5->tflite-model-maker) (0.1.8)\n",
      "Requirement already satisfied: pybind11>=2.6.0 in /home/jupyter/.local/lib/python3.8/site-packages (from tflite-support>=0.4.2->tflite-model-maker) (2.10.4)\n",
      "Requirement already satisfied: sounddevice>=0.4.4 in /home/jupyter/.local/lib/python3.8/site-packages (from tflite-support>=0.4.2->tflite-model-maker) (0.4.6)\n",
      "Requirement already satisfied: wheel<1.0,>=0.23.0 in /usr/local/lib/python3.8/dist-packages (from astunparse>=1.6.0->tensorflow>=2.6.0->tflite-model-maker) (0.37.1)\n",
      "Requirement already satisfied: httplib2<1dev,>=0.9.2 in /usr/local/lib/python3.8/dist-packages (from google-api-python-client>=1.6.7->tf-models-official==2.3.0->tflite-model-maker) (0.20.2)\n",
      "Requirement already satisfied: uritemplate<4dev,>=3.0.0 in /usr/local/lib/python3.8/dist-packages (from google-api-python-client>=1.6.7->tf-models-official==2.3.0->tflite-model-maker) (3.0.1)\n",
      "Requirement already satisfied: google-auth>=1.4.1 in /usr/local/lib/python3.8/dist-packages (from google-api-python-client>=1.6.7->tf-models-official==2.3.0->tflite-model-maker) (1.35.0)\n",
      "Requirement already satisfied: google-auth-httplib2>=0.0.3 in /usr/local/lib/python3.8/dist-packages (from google-api-python-client>=1.6.7->tf-models-official==2.3.0->tflite-model-maker) (0.1.0)\n",
      "Requirement already satisfied: google-api-core<2dev,>=1.13.0 in /usr/local/lib/python3.8/dist-packages (from google-api-python-client>=1.6.7->tf-models-official==2.3.0->tflite-model-maker) (1.31.5)\n",
      "Requirement already satisfied: google-cloud-core<3.0.0dev,>=1.6.0 in /home/jupyter/.local/lib/python3.8/site-packages (from google-cloud-bigquery>=0.31.0->tf-models-official==2.3.0->tflite-model-maker) (2.3.1)\n",
      "Requirement already satisfied: google-resumable-media<3.0dev,>=0.6.0 in /home/jupyter/.local/lib/python3.8/site-packages (from google-cloud-bigquery>=0.31.0->tf-models-official==2.3.0->tflite-model-maker) (2.5.0)\n",
      "Requirement already satisfied: proto-plus<2.0.0dev,>=1.15.0 in /home/jupyter/.local/lib/python3.8/site-packages (from google-cloud-bigquery>=0.31.0->tf-models-official==2.3.0->tflite-model-maker) (1.22.2)\n",
      "Requirement already satisfied: certifi in /kernel/lib/python3.8/site-packages (from kaggle>=1.3.9->tf-models-official==2.3.0->tflite-model-maker) (2023.5.7)\n",
      "Requirement already satisfied: python-slugify in /usr/local/lib/python3.8/dist-packages (from kaggle>=1.3.9->tf-models-official==2.3.0->tflite-model-maker) (5.0.2)\n",
      "  Downloading urllib3-1.24.3-py2.py3-none-any.whl (118 kB)\n",
      "     |████████████████████████████████| 118 kB 16.5 MB/s            \n",
      "\u001b[?25hRequirement already satisfied: slugify in /usr/local/lib/python3.8/dist-packages (from kaggle>=1.3.9->tf-models-official==2.3.0->tflite-model-maker) (0.0.1)\n",
      "Requirement already satisfied: pytz>=2017.2 in /usr/local/lib/python3.8/dist-packages (from pandas>=0.22.0->tf-models-official==2.3.0->tflite-model-maker) (2021.3)\n",
      "Requirement already satisfied: appdirs in /usr/local/lib/python3.8/dist-packages (from pooch>=1.0->librosa==0.8.1->tflite-model-maker) (1.4.4)\n",
      "Requirement already satisfied: chardet<5,>=3.0.2 in /kernel/lib/python3.8/site-packages (from requests>=2.19.0->tensorflow-datasets>=2.1.0->tflite-model-maker) (4.0.0)\n",
      "Requirement already satisfied: idna<3,>=2.5 in /kernel/lib/python3.8/site-packages (from requests>=2.19.0->tensorflow-datasets>=2.1.0->tflite-model-maker) (2.10)\n",
      "Requirement already satisfied: CFFI>=1.0 in /kernel/lib/python3.8/site-packages (from sounddevice>=0.4.4->tflite-support>=0.4.2->tflite-model-maker) (1.15.1)\n",
      "Requirement already satisfied: werkzeug>=0.11.15 in /usr/local/lib/python3.8/dist-packages (from tensorboard<2.9,>=2.8->tensorflow>=2.6.0->tflite-model-maker) (2.0.2)\n",
      "Requirement already satisfied: tensorboard-plugin-wit>=1.6.0 in /usr/local/lib/python3.8/dist-packages (from tensorboard<2.9,>=2.8->tensorflow>=2.6.0->tflite-model-maker) (1.8.0)\n",
      "Requirement already satisfied: markdown>=2.6.8 in /usr/local/lib/python3.8/dist-packages (from tensorboard<2.9,>=2.8->tensorflow>=2.6.0->tflite-model-maker) (3.3.6)\n",
      "Requirement already satisfied: google-auth-oauthlib<0.5,>=0.4.1 in /usr/local/lib/python3.8/dist-packages (from tensorboard<2.9,>=2.8->tensorflow>=2.6.0->tflite-model-maker) (0.4.6)\n",
      "Requirement already satisfied: tensorboard-data-server<0.7.0,>=0.6.0 in /usr/local/lib/python3.8/dist-packages (from tensorboard<2.9,>=2.8->tensorflow>=2.6.0->tflite-model-maker) (0.6.1)\n",
      "Requirement already satisfied: googleapis-common-protos<2,>=1.52.0 in /usr/local/lib/python3.8/dist-packages (from tensorflow-metadata->tensorflow-datasets>=2.1.0->tflite-model-maker) (1.54.0)\n",
      "Requirement already satisfied: pycparser in /kernel/lib/python3.8/site-packages (from CFFI>=1.0->sounddevice>=0.4.4->tflite-support>=0.4.2->tflite-model-maker) (2.21)\n",
      "Requirement already satisfied: cachetools<5.0,>=2.0.0 in /usr/local/lib/python3.8/dist-packages (from google-auth>=1.4.1->google-api-python-client>=1.6.7->tf-models-official==2.3.0->tflite-model-maker) (4.2.4)\n",
      "Requirement already satisfied: rsa<5,>=3.1.4 in /usr/local/lib/python3.8/dist-packages (from google-auth>=1.4.1->google-api-python-client>=1.6.7->tf-models-official==2.3.0->tflite-model-maker) (4.8)\n",
      "Requirement already satisfied: pyasn1-modules>=0.2.1 in /usr/local/lib/python3.8/dist-packages (from google-auth>=1.4.1->google-api-python-client>=1.6.7->tf-models-official==2.3.0->tflite-model-maker) (0.2.8)\n",
      "Requirement already satisfied: requests-oauthlib>=0.7.0 in /usr/local/lib/python3.8/dist-packages (from google-auth-oauthlib<0.5,>=0.4.1->tensorboard<2.9,>=2.8->tensorflow>=2.6.0->tflite-model-maker) (1.3.0)\n",
      "Requirement already satisfied: google-crc32c<2.0dev,>=1.0 in /home/jupyter/.local/lib/python3.8/site-packages (from google-resumable-media<3.0dev,>=0.6.0->google-cloud-bigquery>=0.31.0->tf-models-official==2.3.0->tflite-model-maker) (1.5.0)\n",
      "Requirement already satisfied: importlib-metadata>=4.4 in /kernel/lib/python3.8/site-packages (from markdown>=2.6.8->tensorboard<2.9,>=2.8->tensorflow>=2.6.0->tflite-model-maker) (6.6.0)\n",
      "Requirement already satisfied: text-unidecode>=1.3 in /usr/local/lib/python3.8/dist-packages (from python-slugify->kaggle>=1.3.9->tf-models-official==2.3.0->tflite-model-maker) (1.3)\n",
      "Requirement already satisfied: zipp>=0.5 in /kernel/lib/python3.8/site-packages (from importlib-metadata>=4.4->markdown>=2.6.8->tensorboard<2.9,>=2.8->tensorflow>=2.6.0->tflite-model-maker) (3.15.0)\n",
      "Requirement already satisfied: pyasn1<0.5.0,>=0.4.6 in /usr/local/lib/python3.8/dist-packages (from pyasn1-modules>=0.2.1->google-auth>=1.4.1->google-api-python-client>=1.6.7->tf-models-official==2.3.0->tflite-model-maker) (0.4.8)\n",
      "Requirement already satisfied: oauthlib>=3.0.0 in /usr/local/lib/python3.8/dist-packages (from requests-oauthlib>=0.7.0->google-auth-oauthlib<0.5,>=0.4.1->tensorboard<2.9,>=2.8->tensorflow>=2.6.0->tflite-model-maker) (3.1.1)\n",
      "Installing collected packages: urllib3\n",
      "\u001b[31mERROR: pip's dependency resolver does not currently take into account all the packages that are installed. This behaviour is the source of the following dependency conflicts.\n",
      "roboflow 1.0.9 requires certifi==2022.12.7, but you have certifi 2023.5.7 which is incompatible.\n",
      "roboflow 1.0.9 requires cycler==0.10.0, but you have cycler 0.11.0 which is incompatible.\n",
      "roboflow 1.0.9 requires urllib3>=1.26.6, but you have urllib3 1.24.3 which is incompatible.\n",
      "moto 1.3.14 requires idna<2.9,>=2.5, but you have idna 2.10 which is incompatible.\n",
      "aws-sam-translator 1.42.0 requires jsonschema~=3.2, but you have jsonschema 4.17.3 which is incompatible.\u001b[0m\n",
      "Successfully installed urllib3-1.24.3\n",
      "\u001b[33mWARNING: You are using pip version 21.3.1; however, version 23.1.2 is available.\n",
      "You should consider upgrading via the '/usr/local/bin/python3 -m pip install --upgrade pip' command.\u001b[0m\n"
     ]
    }
   ],
   "source": [
    "#!c1.8\n",
    "%pip install tflite-model-maker"
   ]
  },
  {
   "cell_type": "code",
   "execution_count": 100,
   "id": "bd24f904",
   "metadata": {
    "cellId": "m8m10wjvf5a9s52y3667a8"
   },
   "outputs": [
    {
     "name": "stdout",
     "output_type": "stream",
     "text": [
      "Defaulting to user installation because normal site-packages is not writeable\n",
      "Collecting jsonschema==3.2.0\n",
      "  Downloading jsonschema-3.2.0-py2.py3-none-any.whl (56 kB)\n",
      "     |████████████████████████████████| 56 kB 1.1 MB/s            \n",
      "\u001b[?25hRequirement already satisfied: pyrsistent>=0.14.0 in /kernel/lib/python3.8/site-packages (from jsonschema==3.2.0) (0.19.3)\n",
      "Requirement already satisfied: attrs>=17.4.0 in /kernel/lib/python3.8/site-packages (from jsonschema==3.2.0) (23.1.0)\n",
      "Requirement already satisfied: six>=1.11.0 in /kernel/lib/python3.8/site-packages (from jsonschema==3.2.0) (1.16.0)\n",
      "Requirement already satisfied: setuptools in /kernel/lib/python3.8/site-packages (from jsonschema==3.2.0) (51.0.0)\n",
      "Installing collected packages: jsonschema\n",
      "\u001b[33m  WARNING: The script jsonschema is installed in '/home/jupyter/.local/bin' which is not on PATH.\n",
      "  Consider adding this directory to PATH or, if you prefer to suppress this warning, use --no-warn-script-location.\u001b[0m\n",
      "Successfully installed jsonschema-3.2.0\n",
      "\u001b[33mWARNING: You are using pip version 21.3.1; however, version 23.1.2 is available.\n",
      "You should consider upgrading via the '/usr/local/bin/python3 -m pip install --upgrade pip' command.\u001b[0m\n"
     ]
    }
   ],
   "source": [
    "#!c1.8\n",
    "%pip install -U jsonschema==3.2.0"
   ]
  },
  {
   "cell_type": "code",
   "execution_count": 20,
   "id": "d56544e8",
   "metadata": {
    "cellId": "j07l3szthbwvnxb4ibpn"
   },
   "outputs": [
    {
     "name": "stderr",
     "output_type": "stream",
     "text": [
      "/home/jupyter/.local/lib/python3.8/site-packages/tensorflow_addons/utils/tfa_eol_msg.py:23: UserWarning: \n",
      "\n",
      "TensorFlow Addons (TFA) has ended development and introduction of new features.\n",
      "TFA has entered a minimal maintenance and release mode until a planned end of life in May 2024.\n",
      "Please modify downstream libraries to take dependencies from other repositories in our TensorFlow community (e.g. Keras, Keras-CV, and Keras-NLP). \n",
      "\n",
      "For more information see: https://github.com/tensorflow/addons/issues/2807 \n",
      "\n",
      "  warnings.warn(\n",
      "/home/jupyter/.local/lib/python3.8/site-packages/tensorflow_addons/utils/tfa_eol_msg.py:23: UserWarning: \n",
      "\n",
      "TensorFlow Addons (TFA) has ended development and introduction of new features.\n",
      "TFA has entered a minimal maintenance and release mode until a planned end of life in May 2024.\n",
      "Please modify downstream libraries to take dependencies from other repositories in our TensorFlow community (e.g. Keras, Keras-CV, and Keras-NLP). \n",
      "\n",
      "For more information see: https://github.com/tensorflow/addons/issues/2807 \n",
      "\n",
      "  warnings.warn(\n",
      "/home/jupyter/.local/lib/python3.8/site-packages/tensorflow_addons/utils/ensure_tf_install.py:53: UserWarning: Tensorflow Addons supports using Python ops for all Tensorflow versions above or equal to 2.10.0 and strictly below 2.13.0 (nightly versions are not supported). \n",
      " The versions of TensorFlow you are currently using is 2.8.4 and is not supported. \n",
      "Some things might work, some things might not.\n",
      "If you were to encounter a bug, do not file an issue.\n",
      "If you want to make sure you're using a tested and supported configuration, either change the TensorFlow version or the TensorFlow Addons's version. \n",
      "You can find the compatibility matrix in TensorFlow Addon's readme:\n",
      "https://github.com/tensorflow/addons\n",
      "  warnings.warn(\n"
     ]
    }
   ],
   "source": [
    "#!c1.8\n",
    "import tflite_model_maker"
   ]
  },
  {
   "cell_type": "code",
   "execution_count": 21,
   "id": "10df60dd",
   "metadata": {
    "cellId": "q655xuoscbu7z7ulx4m"
   },
   "outputs": [],
   "source": [
    "from tflite_model_maker import image_classifier"
   ]
  },
  {
   "cell_type": "code",
   "execution_count": 207,
   "id": "16295617",
   "metadata": {
    "cellId": "s0rv1g8j8nm74kb6upkj"
   },
   "outputs": [
    {
     "name": "stderr",
     "output_type": "stream",
     "text": [
      "/home/jupyter/.local/lib/python3.8/site-packages/tensorflow_addons/utils/tfa_eol_msg.py:23: UserWarning: \n",
      "\n",
      "TensorFlow Addons (TFA) has ended development and introduction of new features.\n",
      "TFA has entered a minimal maintenance and release mode until a planned end of life in May 2024.\n",
      "Please modify downstream libraries to take dependencies from other repositories in our TensorFlow community (e.g. Keras, Keras-CV, and Keras-NLP). \n",
      "\n",
      "For more information see: https://github.com/tensorflow/addons/issues/2807 \n",
      "\n",
      "  warnings.warn(\n",
      "/home/jupyter/.local/lib/python3.8/site-packages/tensorflow_addons/utils/tfa_eol_msg.py:23: UserWarning: \n",
      "\n",
      "TensorFlow Addons (TFA) has ended development and introduction of new features.\n",
      "TFA has entered a minimal maintenance and release mode until a planned end of life in May 2024.\n",
      "Please modify downstream libraries to take dependencies from other repositories in our TensorFlow community (e.g. Keras, Keras-CV, and Keras-NLP). \n",
      "\n",
      "For more information see: https://github.com/tensorflow/addons/issues/2807 \n",
      "\n",
      "  warnings.warn(\n",
      "/home/jupyter/.local/lib/python3.8/site-packages/tensorflow_addons/utils/ensure_tf_install.py:53: UserWarning: Tensorflow Addons supports using Python ops for all Tensorflow versions above or equal to 2.10.0 and strictly below 2.13.0 (nightly versions are not supported). \n",
      " The versions of TensorFlow you are currently using is 2.8.4 and is not supported. \n",
      "Some things might work, some things might not.\n",
      "If you were to encounter a bug, do not file an issue.\n",
      "If you want to make sure you're using a tested and supported configuration, either change the TensorFlow version or the TensorFlow Addons's version. \n",
      "You can find the compatibility matrix in TensorFlow Addon's readme:\n",
      "https://github.com/tensorflow/addons\n",
      "  warnings.warn(\n"
     ]
    }
   ],
   "source": [
    "#!c1.8\n",
    "import numpy as np\n",
    "import os\n",
    "\n",
    "from tflite_model_maker.config import ExportFormat\n",
    "from tflite_model_maker import model_spec\n",
    "from tflite_model_maker import object_detector\n",
    "\n",
    "import tensorflow as tf\n",
    "assert tf.__version__.startswith('2')\n",
    "\n",
    "tf.get_logger().setLevel('ERROR')\n",
    "from absl import logging\n",
    "logging.set_verbosity(logging.ERROR)"
   ]
  },
  {
   "cell_type": "code",
   "execution_count": 39,
   "id": "9300c7a6",
   "metadata": {
    "cellId": "5xdeie39ydy4jgjr1h5l6"
   },
   "outputs": [
    {
     "name": "stdout",
     "output_type": "stream",
     "text": [
      "Defaulting to user installation because normal site-packages is not writeable\n",
      "Collecting roboflow\n",
      "  Downloading roboflow-1.0.9-py3-none-any.whl (56 kB)\n",
      "     |████████████████████████████████| 56 kB 1.9 MB/s             \n",
      "\u001b[?25hRequirement already satisfied: idna==2.10 in /kernel/lib/python3.8/site-packages (from roboflow) (2.10)\n",
      "Collecting requests-toolbelt\n",
      "  Downloading requests_toolbelt-1.0.0-py2.py3-none-any.whl (54 kB)\n",
      "     |████████████████████████████████| 54 kB 3.7 MB/s             \n",
      "\u001b[?25hRequirement already satisfied: python-dateutil in /kernel/lib/python3.8/site-packages (from roboflow) (2.8.2)\n",
      "Requirement already satisfied: matplotlib in /usr/local/lib/python3.8/dist-packages (from roboflow) (3.1.3)\n",
      "Requirement already satisfied: PyYAML>=5.3.1 in /usr/local/lib/python3.8/dist-packages (from roboflow) (5.3.1)\n",
      "Requirement already satisfied: six in /kernel/lib/python3.8/site-packages (from roboflow) (1.16.0)\n",
      "Requirement already satisfied: Pillow>=7.1.2 in /kernel/lib/python3.8/site-packages (from roboflow) (9.5.0)\n",
      "Requirement already satisfied: tqdm>=4.41.0 in /usr/local/lib/python3.8/dist-packages (from roboflow) (4.50.0)\n",
      "Collecting python-dotenv\n",
      "  Downloading python_dotenv-1.0.0-py3-none-any.whl (19 kB)\n",
      "Collecting certifi==2022.12.7\n",
      "  Downloading certifi-2022.12.7-py3-none-any.whl (155 kB)\n",
      "     |████████████████████████████████| 155 kB 12.6 MB/s            \n",
      "\u001b[?25hRequirement already satisfied: pyparsing==2.4.7 in /kernel/lib/python3.8/site-packages (from roboflow) (2.4.7)\n",
      "Requirement already satisfied: numpy>=1.18.5 in /home/jupyter/.local/lib/python3.8/site-packages (from roboflow) (1.24.3)\n",
      "Requirement already satisfied: requests in /kernel/lib/python3.8/site-packages (from roboflow) (2.25.1)\n",
      "Collecting opencv-python>=4.1.2\n",
      "  Downloading opencv_python-4.7.0.72-cp37-abi3-manylinux_2_17_x86_64.manylinux2014_x86_64.whl (61.8 MB)\n",
      "     |████████████████████████████████| 61.8 MB 96 kB/s              \n",
      "\u001b[?25hRequirement already satisfied: kiwisolver>=1.3.1 in /kernel/lib/python3.8/site-packages (from roboflow) (1.4.4)\n",
      "Requirement already satisfied: chardet==4.0.0 in /kernel/lib/python3.8/site-packages (from roboflow) (4.0.0)\n",
      "Requirement already satisfied: wget in /usr/local/lib/python3.8/dist-packages (from roboflow) (3.2)\n",
      "Requirement already satisfied: urllib3>=1.26.6 in /kernel/lib/python3.8/site-packages (from roboflow) (1.26.16)\n",
      "Collecting cycler==0.10.0\n",
      "  Downloading cycler-0.10.0-py2.py3-none-any.whl (6.5 kB)\n",
      "Installing collected packages: certifi, cycler, requests-toolbelt, python-dotenv, opencv-python, roboflow\n",
      "\u001b[33m  WARNING: The script dotenv is installed in '/home/jupyter/.local/bin' which is not on PATH.\n",
      "  Consider adding this directory to PATH or, if you prefer to suppress this warning, use --no-warn-script-location.\u001b[0m\n",
      "\u001b[31mERROR: pip's dependency resolver does not currently take into account all the packages that are installed. This behaviour is the source of the following dependency conflicts.\n",
      "moto 1.3.14 requires idna<2.9,>=2.5, but you have idna 2.10 which is incompatible.\n",
      "kaggle 1.5.8 requires urllib3<1.25,>=1.21.1, but you have urllib3 1.26.16 which is incompatible.\u001b[0m\n",
      "Successfully installed certifi-2022.12.7 cycler-0.10.0 opencv-python-4.7.0.72 python-dotenv-1.0.0 requests-toolbelt-1.0.0 roboflow-1.0.9\n",
      "\u001b[33mWARNING: You are using pip version 21.3.1; however, version 23.1.2 is available.\n",
      "You should consider upgrading via the '/usr/local/bin/python3 -m pip install --upgrade pip' command.\u001b[0m\n"
     ]
    }
   ],
   "source": [
    "%pip install roboflow\n"
   ]
  },
  {
   "cell_type": "code",
   "execution_count": 64,
   "id": "bf044afd",
   "metadata": {
    "cellId": "9ge027m1j8c0yidt3y089c"
   },
   "outputs": [
    {
     "name": "stdout",
     "output_type": "stream",
     "text": [
      "Downloading Dataset Version Zip in furniture-2 to voc: 100% [56796297 / 56796297] bytes\n"
     ]
    },
    {
     "name": "stderr",
     "output_type": "stream",
     "text": [
      "Extracting Dataset Version Zip to furniture-2 in voc:: 100%|██████████| 1383/1383 [00:01<00:00, 714.11it/s]\n"
     ]
    }
   ],
   "source": [
    "from roboflow import Roboflow\n",
    "rf = Roboflow(api_key=\"byRor0ypeCz0cpiduDK0\")\n",
    "project = rf.workspace(\"roboflow-100\").project(\"furniture-ngpea\")\n",
    "dataset = project.version(2).download(\"voc\")\n"
   ]
  },
  {
   "cell_type": "code",
   "execution_count": 130,
   "id": "350c39aa",
   "metadata": {
    "cellId": "vpwm6x1hdye9fgadquybxm"
   },
   "outputs": [
    {
     "name": "stderr",
     "output_type": "stream",
     "text": [
      "/home/jupyter/.local/lib/python3.8/site-packages/tensorflow_addons/utils/tfa_eol_msg.py:23: UserWarning: \n",
      "\n",
      "TensorFlow Addons (TFA) has ended development and introduction of new features.\n",
      "TFA has entered a minimal maintenance and release mode until a planned end of life in May 2024.\n",
      "Please modify downstream libraries to take dependencies from other repositories in our TensorFlow community (e.g. Keras, Keras-CV, and Keras-NLP). \n",
      "\n",
      "For more information see: https://github.com/tensorflow/addons/issues/2807 \n",
      "\n",
      "  warnings.warn(\n",
      "/home/jupyter/.local/lib/python3.8/site-packages/tensorflow_addons/utils/tfa_eol_msg.py:23: UserWarning: \n",
      "\n",
      "TensorFlow Addons (TFA) has ended development and introduction of new features.\n",
      "TFA has entered a minimal maintenance and release mode until a planned end of life in May 2024.\n",
      "Please modify downstream libraries to take dependencies from other repositories in our TensorFlow community (e.g. Keras, Keras-CV, and Keras-NLP). \n",
      "\n",
      "For more information see: https://github.com/tensorflow/addons/issues/2807 \n",
      "\n",
      "  warnings.warn(\n",
      "/home/jupyter/.local/lib/python3.8/site-packages/tensorflow_addons/utils/ensure_tf_install.py:53: UserWarning: Tensorflow Addons supports using Python ops for all Tensorflow versions above or equal to 2.10.0 and strictly below 2.13.0 (nightly versions are not supported). \n",
      " The versions of TensorFlow you are currently using is 2.8.4 and is not supported. \n",
      "Some things might work, some things might not.\n",
      "If you were to encounter a bug, do not file an issue.\n",
      "If you want to make sure you're using a tested and supported configuration, either change the TensorFlow version or the TensorFlow Addons's version. \n",
      "You can find the compatibility matrix in TensorFlow Addon's readme:\n",
      "https://github.com/tensorflow/addons\n",
      "  warnings.warn(\n"
     ]
    }
   ],
   "source": [
    "#!c1.8\n",
    "from tflite_model_maker.config import ExportFormat \n",
    "from tflite_model_maker import model_spec\n",
    "from tflite_model_maker import object_detector\n",
    "import tensorflow as tf\n",
    "from absl import logging\n",
    "import numpy as np\n",
    "import os\n",
    "\n",
    "# Ensure the TensorFlow version is 2.x, which is required for tflite_model_maker.\n",
    "assert tf.__version__.startswith('2')\n",
    "\n",
    "\n",
    "from absl import logging\n",
    "# Set log levels for TensorFlow and absl to ERROR to avoid distractions during model training.\n",
    "tf.get_logger().setLevel('ERROR')\n",
    "logging.set_verbosity(logging.ERROR)"
   ]
  },
  {
   "cell_type": "code",
   "execution_count": 218,
   "id": "8cb31fd7",
   "metadata": {
    "cellId": "vhrc5tx0i3h190m6sozyyf"
   },
   "outputs": [],
   "source": [
    "#!c1.8\n",
    "\n",
    "# Define the labels that are present in the dataset.\n",
    "object_labels = ['0', '1', '2', '3', '4', '5', '6', '7', '8', '9', 'A', 'B', 'C', 'E', 'H', 'K', 'M', 'O', 'P', 'T', 'X', 'Y']\n",
    "\n",
    "# Define the directories for images and annotations for training, validation and testing data.\n",
    "training_images_directory = 'train'\n",
    "training_annotations_directory = 'train'\n",
    "validation_images_directory = 'valid'\n",
    "validation_annotations_directory = 'valid'\n",
    "testing_images_directory = 'test'\n",
    "testing_annotations_directory = 'test'\n"
   ]
  },
  {
   "cell_type": "code",
   "execution_count": 220,
   "id": "f8a6508c",
   "metadata": {
    "cellId": "f7ndguqv0akqrv7fwfs66"
   },
   "outputs": [
    {
     "name": "stdout",
     "output_type": "stream",
     "text": [
      "train count: 1868\n",
      "validation count: 99\n",
      "test count: 38\n"
     ]
    }
   ],
   "source": [
    "#!c1.8\n",
    "\n",
    "# Load training, validation, and testing data from Pascal VOC format, which is a common format for image data.\n",
    "training_data = object_detector.DataLoader.from_pascal_voc(\n",
    "    images_dir=training_images_directory,\n",
    "    annotations_dir=training_annotations_directory,\n",
    "    label_map=object_labels, \n",
    "    ignore_difficult_instances=True)\n",
    "validation_data = object_detector.DataLoader.from_pascal_voc(\n",
    "    images_dir=validation_images_directory,\n",
    "    annotations_dir=validation_annotations_directory, \n",
    "    label_map=object_labels, \n",
    "    ignore_difficult_instances=True)\n",
    "testing_data = object_detector.DataLoader.from_pascal_voc(\n",
    "    images_dir=testing_images_directory, \n",
    "    annotations_dir=testing_annotations_directory, \n",
    "    label_map=object_labels, \n",
    "    ignore_difficult_instances=True)\n",
    " \n",
    "    \n",
    "# Print the number of examples in each data set to verify the data loading process.\n",
    "print('Number of training examples:', len(training_data))\n",
    "print('Number of validation examples:', len(validation_data))\n",
    "print('Number of testing examples:', len(testing_data))"
   ]
  },
  {
   "cell_type": "code",
   "execution_count": 160,
   "id": "d81b20a8",
   "metadata": {
    "cellId": "80kgf8c8169cej8cerid19"
   },
   "outputs": [],
   "source": [
    "# #!c1.8\n",
    "# import os\n",
    "\n",
    "# folder_path = \"./Annotations\"  # Replace with the path to your folder\n",
    "\n",
    "# # Get a list of all XML files in the folder\n",
    "# xml_files = [file for file in os.listdir(folder_path) if file.endswith(\".xml\")]\n",
    "\n",
    "# for file_name in xml_files:\n",
    "#     file_path = os.path.join(folder_path, file_name)\n",
    "\n",
    "#     # Read the contents of the file, excluding the first line\n",
    "#     with open(file_path, \"r\") as file:\n",
    "#         lines = file.readlines()[1:]\n",
    "\n",
    "#     # Write the modified contents back to the file\n",
    "#     with open(file_path, \"w\") as file:\n",
    "#         file.writelines(lines)"
   ]
  },
  {
   "cell_type": "code",
   "execution_count": 221,
   "id": "3db10c53",
   "metadata": {
    "cellId": "pju2ykii3kcdad0nf2kwb"
   },
   "outputs": [
    {
     "name": "stderr",
     "output_type": "stream",
     "text": [
      "2023-06-12 17:35:38.466849: W tensorflow/stream_executor/platform/default/dso_loader.cc:64] Could not load dynamic library 'libcuda.so.1'; dlerror: libcuda.so.1: cannot open shared object file: No such file or directory; LD_LIBRARY_PATH: /usr/local/nvidia/lib:/usr/local/nvidia/lib64:/usr/local/cuda/lib64\n",
      "2023-06-12 17:35:38.466884: W tensorflow/stream_executor/cuda/cuda_driver.cc:269] failed call to cuInit: UNKNOWN ERROR (303)\n"
     ]
    }
   ],
   "source": [
    "#!c1.8\n",
    "spec = object_detector.EfficientDetLite0Spec()"
   ]
  },
  {
   "cell_type": "code",
   "execution_count": 222,
   "id": "1baa1831",
   "metadata": {
    "cellId": "s2mt14nardnxfz3qdpbxq"
   },
   "outputs": [
    {
     "name": "stdout",
     "output_type": "stream",
     "text": [
      "Defaulting to user installation because normal site-packages is not writeable\n",
      "Requirement already satisfied: pycocotools in /home/jupyter/.local/lib/python3.8/site-packages (2.0.6)\n",
      "Requirement already satisfied: matplotlib>=2.1.0 in /usr/local/lib/python3.8/dist-packages (from pycocotools) (3.1.3)\n",
      "Requirement already satisfied: numpy in /home/jupyter/.local/lib/python3.8/site-packages (from pycocotools) (1.24.3)\n",
      "Requirement already satisfied: cycler>=0.10 in /kernel/lib/python3.8/site-packages (from matplotlib>=2.1.0->pycocotools) (0.11.0)\n",
      "Requirement already satisfied: kiwisolver>=1.0.1 in /kernel/lib/python3.8/site-packages (from matplotlib>=2.1.0->pycocotools) (1.4.4)\n",
      "Requirement already satisfied: pyparsing!=2.0.4,!=2.1.2,!=2.1.6,>=2.0.1 in /kernel/lib/python3.8/site-packages (from matplotlib>=2.1.0->pycocotools) (2.4.7)\n",
      "Requirement already satisfied: python-dateutil>=2.1 in /kernel/lib/python3.8/site-packages (from matplotlib>=2.1.0->pycocotools) (2.8.2)\n",
      "Requirement already satisfied: six>=1.5 in /kernel/lib/python3.8/site-packages (from python-dateutil>=2.1->matplotlib>=2.1.0->pycocotools) (1.16.0)\n",
      "\u001b[33mWARNING: You are using pip version 21.3.1; however, version 23.1.2 is available.\n",
      "You should consider upgrading via the '/usr/local/bin/python3 -m pip install --upgrade pip' command.\u001b[0m\n"
     ]
    }
   ],
   "source": [
    "#!c1.8\n",
    "%pip install pycocotools"
   ]
  },
  {
   "cell_type": "code",
   "execution_count": 223,
   "id": "e751302c",
   "metadata": {
    "cellId": "ad5v0iia6wiqfjuf967uo"
   },
   "outputs": [
    {
     "name": "stderr",
     "output_type": "stream",
     "text": [
      "2023-06-12 17:36:27.217596: W tensorflow/core/framework/dataset.cc:768] Input of GeneratorDatasetOp::Dataset will not be optimized because the dataset does not implement the AsGraphDefInternal() method needed to apply optimizations.\n",
      "2023-06-12 17:40:02.886864: W tensorflow/core/framework/dataset.cc:768] Input of GeneratorDatasetOp::Dataset will not be optimized because the dataset does not implement the AsGraphDefInternal() method needed to apply optimizations.\n",
      "2023-06-12 17:43:19.196673: W tensorflow/core/framework/dataset.cc:768] Input of GeneratorDatasetOp::Dataset will not be optimized because the dataset does not implement the AsGraphDefInternal() method needed to apply optimizations.\n",
      "2023-06-12 17:46:32.381291: W tensorflow/core/framework/dataset.cc:768] Input of GeneratorDatasetOp::Dataset will not be optimized because the dataset does not implement the AsGraphDefInternal() method needed to apply optimizations.\n",
      "2023-06-12 17:49:45.662128: W tensorflow/core/framework/dataset.cc:768] Input of GeneratorDatasetOp::Dataset will not be optimized because the dataset does not implement the AsGraphDefInternal() method needed to apply optimizations.\n",
      "2023-06-12 17:52:59.244226: W tensorflow/core/framework/dataset.cc:768] Input of GeneratorDatasetOp::Dataset will not be optimized because the dataset does not implement the AsGraphDefInternal() method needed to apply optimizations.\n",
      "2023-06-12 17:56:23.395875: W tensorflow/core/framework/dataset.cc:768] Input of GeneratorDatasetOp::Dataset will not be optimized because the dataset does not implement the AsGraphDefInternal() method needed to apply optimizations.\n",
      "2023-06-12 17:59:36.671823: W tensorflow/core/framework/dataset.cc:768] Input of GeneratorDatasetOp::Dataset will not be optimized because the dataset does not implement the AsGraphDefInternal() method needed to apply optimizations.\n",
      "2023-06-12 18:02:48.594991: W tensorflow/core/framework/dataset.cc:768] Input of GeneratorDatasetOp::Dataset will not be optimized because the dataset does not implement the AsGraphDefInternal() method needed to apply optimizations.\n",
      "2023-06-12 18:06:00.742323: W tensorflow/core/framework/dataset.cc:768] Input of GeneratorDatasetOp::Dataset will not be optimized because the dataset does not implement the AsGraphDefInternal() method needed to apply optimizations.\n",
      "2023-06-12 18:09:12.737738: W tensorflow/core/framework/dataset.cc:768] Input of GeneratorDatasetOp::Dataset will not be optimized because the dataset does not implement the AsGraphDefInternal() method needed to apply optimizations.\n",
      "2023-06-12 18:12:29.077351: W tensorflow/core/framework/dataset.cc:768] Input of GeneratorDatasetOp::Dataset will not be optimized because the dataset does not implement the AsGraphDefInternal() method needed to apply optimizations.\n",
      "2023-06-12 18:15:40.417630: W tensorflow/core/framework/dataset.cc:768] Input of GeneratorDatasetOp::Dataset will not be optimized because the dataset does not implement the AsGraphDefInternal() method needed to apply optimizations.\n",
      "2023-06-12 18:18:52.509066: W tensorflow/core/framework/dataset.cc:768] Input of GeneratorDatasetOp::Dataset will not be optimized because the dataset does not implement the AsGraphDefInternal() method needed to apply optimizations.\n",
      "2023-06-12 18:22:04.371156: W tensorflow/core/framework/dataset.cc:768] Input of GeneratorDatasetOp::Dataset will not be optimized because the dataset does not implement the AsGraphDefInternal() method needed to apply optimizations.\n",
      "2023-06-12 18:25:16.660886: W tensorflow/core/framework/dataset.cc:768] Input of GeneratorDatasetOp::Dataset will not be optimized because the dataset does not implement the AsGraphDefInternal() method needed to apply optimizations.\n",
      "2023-06-12 18:28:32.130186: W tensorflow/core/framework/dataset.cc:768] Input of GeneratorDatasetOp::Dataset will not be optimized because the dataset does not implement the AsGraphDefInternal() method needed to apply optimizations.\n",
      "2023-06-12 18:31:43.096146: W tensorflow/core/framework/dataset.cc:768] Input of GeneratorDatasetOp::Dataset will not be optimized because the dataset does not implement the AsGraphDefInternal() method needed to apply optimizations.\n",
      "2023-06-12 18:34:54.982714: W tensorflow/core/framework/dataset.cc:768] Input of GeneratorDatasetOp::Dataset will not be optimized because the dataset does not implement the AsGraphDefInternal() method needed to apply optimizations.\n",
      "2023-06-12 18:38:07.236257: W tensorflow/core/framework/dataset.cc:768] Input of GeneratorDatasetOp::Dataset will not be optimized because the dataset does not implement the AsGraphDefInternal() method needed to apply optimizations.\n",
      "2023-06-12 18:41:18.839268: W tensorflow/core/framework/dataset.cc:768] Input of GeneratorDatasetOp::Dataset will not be optimized because the dataset does not implement the AsGraphDefInternal() method needed to apply optimizations.\n",
      "2023-06-12 18:44:33.335615: W tensorflow/core/framework/dataset.cc:768] Input of GeneratorDatasetOp::Dataset will not be optimized because the dataset does not implement the AsGraphDefInternal() method needed to apply optimizations.\n",
      "2023-06-12 18:47:43.945891: W tensorflow/core/framework/dataset.cc:768] Input of GeneratorDatasetOp::Dataset will not be optimized because the dataset does not implement the AsGraphDefInternal() method needed to apply optimizations.\n",
      "2023-06-12 18:50:56.467174: W tensorflow/core/framework/dataset.cc:768] Input of GeneratorDatasetOp::Dataset will not be optimized because the dataset does not implement the AsGraphDefInternal() method needed to apply optimizations.\n",
      "2023-06-12 18:54:08.364860: W tensorflow/core/framework/dataset.cc:768] Input of GeneratorDatasetOp::Dataset will not be optimized because the dataset does not implement the AsGraphDefInternal() method needed to apply optimizations.\n",
      "2023-06-12 18:57:20.592532: W tensorflow/core/framework/dataset.cc:768] Input of GeneratorDatasetOp::Dataset will not be optimized because the dataset does not implement the AsGraphDefInternal() method needed to apply optimizations.\n",
      "2023-06-12 19:00:36.055325: W tensorflow/core/framework/dataset.cc:768] Input of GeneratorDatasetOp::Dataset will not be optimized because the dataset does not implement the AsGraphDefInternal() method needed to apply optimizations.\n",
      "2023-06-12 19:03:48.277938: W tensorflow/core/framework/dataset.cc:768] Input of GeneratorDatasetOp::Dataset will not be optimized because the dataset does not implement the AsGraphDefInternal() method needed to apply optimizations.\n",
      "2023-06-12 19:07:00.857847: W tensorflow/core/framework/dataset.cc:768] Input of GeneratorDatasetOp::Dataset will not be optimized because the dataset does not implement the AsGraphDefInternal() method needed to apply optimizations.\n",
      "2023-06-12 19:10:13.815830: W tensorflow/core/framework/dataset.cc:768] Input of GeneratorDatasetOp::Dataset will not be optimized because the dataset does not implement the AsGraphDefInternal() method needed to apply optimizations.\n",
      "2023-06-12 19:13:26.553149: W tensorflow/core/framework/dataset.cc:768] Input of GeneratorDatasetOp::Dataset will not be optimized because the dataset does not implement the AsGraphDefInternal() method needed to apply optimizations.\n",
      "2023-06-12 19:16:42.351242: W tensorflow/core/framework/dataset.cc:768] Input of GeneratorDatasetOp::Dataset will not be optimized because the dataset does not implement the AsGraphDefInternal() method needed to apply optimizations.\n",
      "2023-06-12 19:19:54.447880: W tensorflow/core/framework/dataset.cc:768] Input of GeneratorDatasetOp::Dataset will not be optimized because the dataset does not implement the AsGraphDefInternal() method needed to apply optimizations.\n",
      "2023-06-12 19:23:05.940387: W tensorflow/core/framework/dataset.cc:768] Input of GeneratorDatasetOp::Dataset will not be optimized because the dataset does not implement the AsGraphDefInternal() method needed to apply optimizations.\n",
      "2023-06-12 19:26:17.263218: W tensorflow/core/framework/dataset.cc:768] Input of GeneratorDatasetOp::Dataset will not be optimized because the dataset does not implement the AsGraphDefInternal() method needed to apply optimizations.\n",
      "2023-06-12 19:29:27.878379: W tensorflow/core/framework/dataset.cc:768] Input of GeneratorDatasetOp::Dataset will not be optimized because the dataset does not implement the AsGraphDefInternal() method needed to apply optimizations.\n",
      "2023-06-12 19:32:43.477749: W tensorflow/core/framework/dataset.cc:768] Input of GeneratorDatasetOp::Dataset will not be optimized because the dataset does not implement the AsGraphDefInternal() method needed to apply optimizations.\n",
      "2023-06-12 19:35:54.561655: W tensorflow/core/framework/dataset.cc:768] Input of GeneratorDatasetOp::Dataset will not be optimized because the dataset does not implement the AsGraphDefInternal() method needed to apply optimizations.\n",
      "2023-06-12 19:39:06.825892: W tensorflow/core/framework/dataset.cc:768] Input of GeneratorDatasetOp::Dataset will not be optimized because the dataset does not implement the AsGraphDefInternal() method needed to apply optimizations.\n",
      "2023-06-12 19:42:18.469422: W tensorflow/core/framework/dataset.cc:768] Input of GeneratorDatasetOp::Dataset will not be optimized because the dataset does not implement the AsGraphDefInternal() method needed to apply optimizations.\n",
      "2023-06-12 19:45:30.893461: W tensorflow/core/framework/dataset.cc:768] Input of GeneratorDatasetOp::Dataset will not be optimized because the dataset does not implement the AsGraphDefInternal() method needed to apply optimizations.\n",
      "2023-06-12 19:48:45.027922: W tensorflow/core/framework/dataset.cc:768] Input of GeneratorDatasetOp::Dataset will not be optimized because the dataset does not implement the AsGraphDefInternal() method needed to apply optimizations.\n",
      "2023-06-12 19:51:56.921723: W tensorflow/core/framework/dataset.cc:768] Input of GeneratorDatasetOp::Dataset will not be optimized because the dataset does not implement the AsGraphDefInternal() method needed to apply optimizations.\n",
      "2023-06-12 19:55:08.989102: W tensorflow/core/framework/dataset.cc:768] Input of GeneratorDatasetOp::Dataset will not be optimized because the dataset does not implement the AsGraphDefInternal() method needed to apply optimizations.\n",
      "2023-06-12 19:58:20.956832: W tensorflow/core/framework/dataset.cc:768] Input of GeneratorDatasetOp::Dataset will not be optimized because the dataset does not implement the AsGraphDefInternal() method needed to apply optimizations.\n",
      "2023-06-12 20:01:33.215038: W tensorflow/core/framework/dataset.cc:768] Input of GeneratorDatasetOp::Dataset will not be optimized because the dataset does not implement the AsGraphDefInternal() method needed to apply optimizations.\n",
      "2023-06-12 20:04:49.793951: W tensorflow/core/framework/dataset.cc:768] Input of GeneratorDatasetOp::Dataset will not be optimized because the dataset does not implement the AsGraphDefInternal() method needed to apply optimizations.\n",
      "2023-06-12 20:08:01.054596: W tensorflow/core/framework/dataset.cc:768] Input of GeneratorDatasetOp::Dataset will not be optimized because the dataset does not implement the AsGraphDefInternal() method needed to apply optimizations.\n",
      "2023-06-12 20:11:11.926182: W tensorflow/core/framework/dataset.cc:768] Input of GeneratorDatasetOp::Dataset will not be optimized because the dataset does not implement the AsGraphDefInternal() method needed to apply optimizations.\n",
      "2023-06-12 20:14:22.870628: W tensorflow/core/framework/dataset.cc:768] Input of GeneratorDatasetOp::Dataset will not be optimized because the dataset does not implement the AsGraphDefInternal() method needed to apply optimizations.\n",
      "2023-06-12 20:17:35.058057: W tensorflow/core/framework/dataset.cc:768] Input of GeneratorDatasetOp::Dataset will not be optimized because the dataset does not implement the AsGraphDefInternal() method needed to apply optimizations.\n"
     ]
    },
    {
     "name": "stdout",
     "output_type": "stream",
     "text": [
      "116/116 [==============================] - 193s 2s/step - det_loss: 0.2018 - cls_loss: 0.1487 - box_loss: 0.0011 - reg_l2_loss: 0.0657 - loss: 0.2676 - learning_rate: 0.0075 - gradient_norm: 0.8884 - val_det_loss: 0.1812 - val_cls_loss: 0.1330 - val_box_loss: 9.6454e-04 - val_reg_l2_loss: 0.0657 - val_loss: 0.2469\n",
      "Epoch 30/50\n",
      "116/116 [==============================] - 196s 2s/step - det_loss: 0.2027 - cls_loss: 0.1493 - box_loss: 0.0011 - reg_l2_loss: 0.0657 - loss: 0.2684 - learning_rate: 0.0068 - gradient_norm: 0.9199 - val_det_loss: 0.1875 - val_cls_loss: 0.1346 - val_box_loss: 0.0011 - val_reg_l2_loss: 0.0657 - val_loss: 0.2532\n",
      "Epoch 31/50\n",
      "116/116 [==============================] - 192s 2s/step - det_loss: 0.1995 - cls_loss: 0.1470 - box_loss: 0.0010 - reg_l2_loss: 0.0657 - loss: 0.2651 - learning_rate: 0.0062 - gradient_norm: 0.9000 - val_det_loss: 0.1917 - val_cls_loss: 0.1378 - val_box_loss: 0.0011 - val_reg_l2_loss: 0.0656 - val_loss: 0.2574\n",
      "Epoch 32/50\n",
      "116/116 [==============================] - 192s 2s/step - det_loss: 0.2000 - cls_loss: 0.1477 - box_loss: 0.0010 - reg_l2_loss: 0.0656 - loss: 0.2657 - learning_rate: 0.0057 - gradient_norm: 0.8729 - val_det_loss: 0.1817 - val_cls_loss: 0.1323 - val_box_loss: 9.8764e-04 - val_reg_l2_loss: 0.0656 - val_loss: 0.2473\n",
      "Epoch 33/50\n",
      "116/116 [==============================] - 192s 2s/step - det_loss: 0.2013 - cls_loss: 0.1488 - box_loss: 0.0011 - reg_l2_loss: 0.0656 - loss: 0.2669 - learning_rate: 0.0051 - gradient_norm: 0.9135 - val_det_loss: 0.1905 - val_cls_loss: 0.1337 - val_box_loss: 0.0011 - val_reg_l2_loss: 0.0656 - val_loss: 0.2561\n",
      "Epoch 34/50\n",
      "116/116 [==============================] - 191s 2s/step - det_loss: 0.1975 - cls_loss: 0.1459 - box_loss: 0.0010 - reg_l2_loss: 0.0656 - loss: 0.2631 - learning_rate: 0.0045 - gradient_norm: 0.9009 - val_det_loss: 0.1796 - val_cls_loss: 0.1282 - val_box_loss: 0.0010 - val_reg_l2_loss: 0.0656 - val_loss: 0.2452\n",
      "Epoch 35/50\n",
      "116/116 [==============================] - 194s 2s/step - det_loss: 0.1952 - cls_loss: 0.1443 - box_loss: 0.0010 - reg_l2_loss: 0.0656 - loss: 0.2607 - learning_rate: 0.0040 - gradient_norm: 0.8644 - val_det_loss: 0.1747 - val_cls_loss: 0.1283 - val_box_loss: 9.2774e-04 - val_reg_l2_loss: 0.0656 - val_loss: 0.2403\n",
      "Epoch 36/50\n",
      "116/116 [==============================] - 192s 2s/step - det_loss: 0.1945 - cls_loss: 0.1450 - box_loss: 9.9085e-04 - reg_l2_loss: 0.0655 - loss: 0.2600 - learning_rate: 0.0035 - gradient_norm: 0.8672 - val_det_loss: 0.1798 - val_cls_loss: 0.1277 - val_box_loss: 0.0010 - val_reg_l2_loss: 0.0655 - val_loss: 0.2454\n",
      "Epoch 37/50\n",
      "116/116 [==============================] - 191s 2s/step - det_loss: 0.1926 - cls_loss: 0.1437 - box_loss: 9.7845e-04 - reg_l2_loss: 0.0655 - loss: 0.2581 - learning_rate: 0.0030 - gradient_norm: 0.8640 - val_det_loss: 0.1775 - val_cls_loss: 0.1283 - val_box_loss: 9.8315e-04 - val_reg_l2_loss: 0.0655 - val_loss: 0.2430\n",
      "Epoch 38/50\n",
      "116/116 [==============================] - 193s 2s/step - det_loss: 0.1906 - cls_loss: 0.1419 - box_loss: 9.7559e-04 - reg_l2_loss: 0.0655 - loss: 0.2562 - learning_rate: 0.0026 - gradient_norm: 0.8897 - val_det_loss: 0.1818 - val_cls_loss: 0.1293 - val_box_loss: 0.0011 - val_reg_l2_loss: 0.0655 - val_loss: 0.2473\n",
      "Epoch 39/50\n",
      "116/116 [==============================] - 191s 2s/step - det_loss: 0.1893 - cls_loss: 0.1408 - box_loss: 9.6927e-04 - reg_l2_loss: 0.0655 - loss: 0.2548 - learning_rate: 0.0022 - gradient_norm: 0.8667 - val_det_loss: 0.1788 - val_cls_loss: 0.1286 - val_box_loss: 0.0010 - val_reg_l2_loss: 0.0655 - val_loss: 0.2443\n",
      "Epoch 40/50\n",
      "116/116 [==============================] - 196s 2s/step - det_loss: 0.1909 - cls_loss: 0.1420 - box_loss: 9.7717e-04 - reg_l2_loss: 0.0655 - loss: 0.2564 - learning_rate: 0.0018 - gradient_norm: 0.8659 - val_det_loss: 0.1775 - val_cls_loss: 0.1275 - val_box_loss: 9.9970e-04 - val_reg_l2_loss: 0.0655 - val_loss: 0.2430\n",
      "Epoch 41/50\n",
      "116/116 [==============================] - 191s 2s/step - det_loss: 0.1888 - cls_loss: 0.1407 - box_loss: 9.6253e-04 - reg_l2_loss: 0.0655 - loss: 0.2543 - learning_rate: 0.0015 - gradient_norm: 0.8995 - val_det_loss: 0.1729 - val_cls_loss: 0.1251 - val_box_loss: 9.5639e-04 - val_reg_l2_loss: 0.0655 - val_loss: 0.2384\n",
      "Epoch 42/50\n",
      "116/116 [==============================] - 192s 2s/step - det_loss: 0.1866 - cls_loss: 0.1394 - box_loss: 9.4352e-04 - reg_l2_loss: 0.0655 - loss: 0.2521 - learning_rate: 0.0011 - gradient_norm: 0.8561 - val_det_loss: 0.1733 - val_cls_loss: 0.1249 - val_box_loss: 9.6775e-04 - val_reg_l2_loss: 0.0655 - val_loss: 0.2387\n",
      "Epoch 43/50\n",
      "116/116 [==============================] - 192s 2s/step - det_loss: 0.1886 - cls_loss: 0.1407 - box_loss: 9.5770e-04 - reg_l2_loss: 0.0655 - loss: 0.2541 - learning_rate: 8.5748e-04 - gradient_norm: 0.8683 - val_det_loss: 0.1730 - val_cls_loss: 0.1252 - val_box_loss: 9.5636e-04 - val_reg_l2_loss: 0.0655 - val_loss: 0.2385\n",
      "Epoch 44/50\n",
      "116/116 [==============================] - 192s 2s/step - det_loss: 0.1864 - cls_loss: 0.1392 - box_loss: 9.4301e-04 - reg_l2_loss: 0.0655 - loss: 0.2518 - learning_rate: 6.1697e-04 - gradient_norm: 0.8325 - val_det_loss: 0.1752 - val_cls_loss: 0.1262 - val_box_loss: 9.8111e-04 - val_reg_l2_loss: 0.0655 - val_loss: 0.2407\n",
      "Epoch 45/50\n",
      "116/116 [==============================] - 196s 2s/step - det_loss: 0.1879 - cls_loss: 0.1405 - box_loss: 9.4770e-04 - reg_l2_loss: 0.0655 - loss: 0.2534 - learning_rate: 4.1500e-04 - gradient_norm: 0.8532 - val_det_loss: 0.1735 - val_cls_loss: 0.1252 - val_box_loss: 9.6526e-04 - val_reg_l2_loss: 0.0655 - val_loss: 0.2390\n",
      "Epoch 46/50\n",
      "116/116 [==============================] - 194s 2s/step - det_loss: 0.1858 - cls_loss: 0.1388 - box_loss: 9.4084e-04 - reg_l2_loss: 0.0655 - loss: 0.2513 - learning_rate: 2.5243e-04 - gradient_norm: 0.8385 - val_det_loss: 0.1732 - val_cls_loss: 0.1250 - val_box_loss: 9.6505e-04 - val_reg_l2_loss: 0.0655 - val_loss: 0.2387\n",
      "Epoch 47/50\n",
      "116/116 [==============================] - 191s 2s/step - det_loss: 0.1870 - cls_loss: 0.1398 - box_loss: 9.4413e-04 - reg_l2_loss: 0.0655 - loss: 0.2524 - learning_rate: 1.2991e-04 - gradient_norm: 0.8303 - val_det_loss: 0.1736 - val_cls_loss: 0.1252 - val_box_loss: 9.6794e-04 - val_reg_l2_loss: 0.0655 - val_loss: 0.2390\n",
      "Epoch 48/50\n",
      "116/116 [==============================] - 191s 2s/step - det_loss: 0.1881 - cls_loss: 0.1407 - box_loss: 9.4715e-04 - reg_l2_loss: 0.0655 - loss: 0.2536 - learning_rate: 4.7946e-05 - gradient_norm: 0.8392 - val_det_loss: 0.1733 - val_cls_loss: 0.1251 - val_box_loss: 9.6511e-04 - val_reg_l2_loss: 0.0655 - val_loss: 0.2388\n",
      "Epoch 49/50\n",
      "116/116 [==============================] - 191s 2s/step - det_loss: 0.1858 - cls_loss: 0.1393 - box_loss: 9.3014e-04 - reg_l2_loss: 0.0655 - loss: 0.2512 - learning_rate: 6.8791e-06 - gradient_norm: 0.8541 - val_det_loss: 0.1733 - val_cls_loss: 0.1250 - val_box_loss: 9.6476e-04 - val_reg_l2_loss: 0.0655 - val_loss: 0.2387\n",
      "Epoch 50/50\n",
      "116/116 [==============================] - 196s 2s/step - det_loss: 0.1875 - cls_loss: 0.1397 - box_loss: 9.5485e-04 - reg_l2_loss: 0.0655 - loss: 0.2529 - learning_rate: 6.8761e-06 - gradient_norm: 0.8591 - val_det_loss: 0.1729 - val_cls_loss: 0.1248 - val_box_loss: 9.6158e-04 - val_reg_l2_loss: 0.0655 - val_loss: 0.2384\n"
     ]
    }
   ],
   "source": [
    "#!c1.8\n",
    "model = object_detector.create(train_data=train_data, \n",
    "                               model_spec=spec, \n",
    "                               validation_data=validation_data, \n",
    "                               epochs=50, \n",
    "                               batch_size=16, \n",
    "                               train_whole_model=True)"
   ]
  },
  {
   "cell_type": "code",
   "execution_count": 225,
   "id": "9f03f884",
   "metadata": {
    "cellId": "9xdxzqt5o8rougd493arbj"
   },
   "outputs": [],
   "source": [
    "#!c1.8\n",
    "TFLITE_FILENAME = 'efficientdet-lite-letters.tflite'\n",
    "LABELS_FILENAME = 'letters-labels.txt'"
   ]
  },
  {
   "cell_type": "code",
   "execution_count": 226,
   "id": "36e47f61",
   "metadata": {
    "cellId": "jhamoxr6d6pxbigqfgui"
   },
   "outputs": [
    {
     "name": "stderr",
     "output_type": "stream",
     "text": [
      "2023-06-12 20:30:33.968821: W tensorflow/core/common_runtime/graph_constructor.cc:803] Node 'resample_p7/PartitionedCall' has 1 outputs but the _output_shapes attribute specifies shapes for 3 outputs. Output shapes may be inaccurate.\n",
      "2023-06-12 20:30:39.330404: W tensorflow/compiler/mlir/lite/python/tf_tfl_flatbuffer_helpers.cc:357] Ignored output_format.\n",
      "2023-06-12 20:30:39.330451: W tensorflow/compiler/mlir/lite/python/tf_tfl_flatbuffer_helpers.cc:360] Ignored drop_control_dependency.\n",
      "fully_quantize: 0, inference_type: 6, input_inference_type: 3, output_inference_type: 0\n"
     ]
    },
    {
     "name": "stdout",
     "output_type": "stream",
     "text": [
      "Estimated count of arithmetic ops: 1.826 G  ops, equivalently 0.913 G  MACs\n",
      "Estimated count of arithmetic ops: 1.826 G  ops, equivalently 0.913 G  MACs\n"
     ]
    }
   ],
   "source": [
    "#!c1.8\n",
    "model.export(export_dir='.', tflite_filename=TFLITE_FILENAME, label_filename=LABELS_FILENAME,\n",
    "             export_format=[ExportFormat.TFLITE, ExportFormat.LABEL])"
   ]
  }
 ],
 "metadata": {
  "language_info": {
   "codemirror_mode": {
    "name": "ipython",
    "version": 3
   },
   "file_extension": ".py",
   "mimetype": "text/x-python",
   "name": "python",
   "nbconvert_exporter": "python",
   "pygments_lexer": "ipython3",
   "version": "3.7.7"
  },
  "notebookId": "71d3c6b0-63c5-414c-af4b-369180a8cf92",
  "notebookPath": "Untitled.ipynb"
 },
 "nbformat": 4,
 "nbformat_minor": 5
}

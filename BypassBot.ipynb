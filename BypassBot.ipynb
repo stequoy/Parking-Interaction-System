{
  "nbformat": 4,
  "nbformat_minor": 0,
  "metadata": {
    "colab": {
      "provenance": []
    },
    "kernelspec": {
      "name": "python3",
      "display_name": "Python 3"
    },
    "language_info": {
      "name": "python"
    }
  },
  "cells": [
    {
      "cell_type": "markdown",
      "source": [
        "##This notebook is an exampe of a telegaram bot minimal user interface."
      ],
      "metadata": {
        "id": "VtHklKyXT4bX"
      }
    },
    {
      "cell_type": "code",
      "source": [
        "pip install telebot"
      ],
      "metadata": {
        "colab": {
          "base_uri": "https://localhost:8080/"
        },
        "id": "8Fr87YbvA3z5",
        "outputId": "f6008b52-1442-49b5-e32e-d48a08e4b6e8"
      },
      "execution_count": null,
      "outputs": [
        {
          "output_type": "stream",
          "name": "stdout",
          "text": [
            "Looking in indexes: https://pypi.org/simple, https://us-python.pkg.dev/colab-wheels/public/simple/\n",
            "Collecting telebot\n",
            "  Downloading telebot-0.0.5-py3-none-any.whl (4.8 kB)\n",
            "Collecting pyTelegramBotAPI (from telebot)\n",
            "  Downloading pyTelegramBotAPI-4.12.0.tar.gz (232 kB)\n",
            "\u001b[2K     \u001b[90m━━━━━━━━━━━━━━━━━━━━━━━━━━━━━━━━━━━━━━\u001b[0m \u001b[32m232.0/232.0 kB\u001b[0m \u001b[31m11.7 MB/s\u001b[0m eta \u001b[36m0:00:00\u001b[0m\n",
            "\u001b[?25h  Preparing metadata (setup.py) ... \u001b[?25l\u001b[?25hdone\n",
            "Requirement already satisfied: requests in /usr/local/lib/python3.10/dist-packages (from telebot) (2.27.1)\n",
            "Requirement already satisfied: urllib3<1.27,>=1.21.1 in /usr/local/lib/python3.10/dist-packages (from requests->telebot) (1.26.15)\n",
            "Requirement already satisfied: certifi>=2017.4.17 in /usr/local/lib/python3.10/dist-packages (from requests->telebot) (2022.12.7)\n",
            "Requirement already satisfied: charset-normalizer~=2.0.0 in /usr/local/lib/python3.10/dist-packages (from requests->telebot) (2.0.12)\n",
            "Requirement already satisfied: idna<4,>=2.5 in /usr/local/lib/python3.10/dist-packages (from requests->telebot) (3.4)\n",
            "Building wheels for collected packages: pyTelegramBotAPI\n",
            "  Building wheel for pyTelegramBotAPI (setup.py) ... \u001b[?25l\u001b[?25hdone\n",
            "  Created wheel for pyTelegramBotAPI: filename=pyTelegramBotAPI-4.12.0-py3-none-any.whl size=213956 sha256=2c7590dedf4c43a4dace7811efcedf9f503164abe4f17afb6ffc9202ab8bf7e7\n",
            "  Stored in directory: /root/.cache/pip/wheels/7e/ba/82/f3ab5bc48525778633bccc741c0424677ed3435736221819f4\n",
            "Successfully built pyTelegramBotAPI\n",
            "Installing collected packages: pyTelegramBotAPI, telebot\n",
            "Successfully installed pyTelegramBotAPI-4.12.0 telebot-0.0.5\n"
          ]
        }
      ]
    },
    {
      "cell_type": "code",
      "execution_count": null,
      "metadata": {
        "id": "GhG37FfJ6taw"
      },
      "outputs": [],
      "source": [
        "import telebot\n",
        "import psycopg2\n",
        "from telebot import types\n",
        "\n",
        "# Instantiate the bot\n",
        "my_bot = telebot.TeleBot('')\n",
        "\n",
        "# Global variables to hold user details\n",
        "user_name = ''\n",
        "user_surname = ''\n",
        "user_age = 0\n",
        "user_id = 0\n",
        "user_car_plate = ''\n",
        "\n",
        "# Bot command to initiate the registration process\n",
        "@my_bot.message_handler(content_types=['text'])\n",
        "def start(message):\n",
        "    if message.text == '/reg':\n",
        "        my_bot.send_message(message.from_user.id, \"What is your name?\")\n",
        "        my_bot.register_next_step_handler(message, retrieve_name)\n",
        "    else:\n",
        "        my_bot.send_message(message.from_user.id, 'Please, write /reg command to register.')\n",
        "\n",
        "# Function to get user's name\n",
        "def retrieve_name(message):\n",
        "    global user_name\n",
        "    global user_id\n",
        "    user_id = message.from_user.id\n",
        "    user_name = message.text\n",
        "    my_bot.send_message(message.from_user.id, 'What is your surname?')\n",
        "    my_bot.register_next_step_handler(message, retrieve_surname)\n",
        "\n",
        "# Function to get user's surname\n",
        "def retrieve_surname(message):\n",
        "    global user_surname\n",
        "    user_surname = message.text\n",
        "    my_bot.send_message(message.from_user.id,'What is your car plate number??!!')\n",
        "    my_bot.register_next_step_handler(message, retrieve_car_plate)\n",
        "\n",
        "# Function to get user's car plate\n",
        "def retrieve_car_plate(message):\n",
        "    global user_car_plate\n",
        "    user_car_plate = message.text\n",
        "    my_bot.send_message(message.from_user.id,'How old are you?')\n",
        "    my_bot.register_next_step_handler(message, retrieve_age)\n",
        "\n",
        "# Function to get user's age\n",
        "def retrieve_age(message):\n",
        "    global user_age\n",
        "    user_age = int(message.text)\n",
        "    confirmation_keyboard = types.InlineKeyboardMarkup()\n",
        "    key_yes = types.InlineKeyboardButton(text='Yes', callback_data='yes')\n",
        "    confirmation_keyboard.add(key_yes)\n",
        "    key_no = types.InlineKeyboardButton(text='No', callback_data='no')\n",
        "    confirmation_keyboard.add(key_no)\n",
        "    confirmation_text = f'You are {user_age} years old, your full name is {user_name} {user_surname} and your car plate number is: {user_car_plate}. Is this information correct?'\n",
        "    my_bot.send_message(message.from_user.id, text=confirmation_text, reply_markup=confirmation_keyboard)\n",
        "\n",
        "# Function to insert user's data into database\n",
        "def insert_user(tg_id, user_name, user_surname, car_plate, user_age):\n",
        "    conn = psycopg2.connect(\"host=109.120.191.148 dbname=PostgreSQL-4323 user=user password=\"\")\n",
        "    cursor = conn.cursor()\n",
        "    insert_query = \"\"\"\n",
        "        INSERT INTO users (tg_id, user_name, user_surname, car_plate, user_age)\n",
        "        VALUES (%s, %s, %s, %s, %s)\n",
        "    \"\"\"\n",
        "    cursor.execute(insert_query, (tg_id, user_name, user_surname, car_plate, user_age))\n",
        "    conn.commit()\n",
        "    cursor.close()\n",
        "    conn.close()\n",
        "\n",
        "# Bot callback function for confirmation response\n",
        "@my_bot.callback_query_handler(func=lambda call: True)\n",
        "def callback_worker(call):\n",
        "    if call.data == \"yes\":\n",
        "        insert_user(user_id, user_name, user_surname, user_car_plate, user_age)\n",
        "        my_bot.send_message(call.message.chat.id, 'You are now registered : )');\n",
        "    elif call.data == \"no\":\n",
        "        my_bot.send"
      ]
    }
  ]
}
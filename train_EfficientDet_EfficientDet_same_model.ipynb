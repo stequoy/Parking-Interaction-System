{
  "cells": [
    {
      "attachments": {},
      "cell_type": "markdown",
      "id": "54fdeb58",
      "metadata": {
        "id": "54fdeb58"
      },
      "source": [
        "python version - 3.8.12"
      ]
    },
    {
      "cell_type": "code",
      "execution_count": null,
      "id": "44194d3e",
      "metadata": {
        "cellId": "ctv52ez9fvv1lejrena1l3",
        "id": "44194d3e",
        "outputId": "953ac481-c866-4a30-8d67-de53f97beb63"
      },
      "outputs": [
        {
          "name": "stdout",
          "output_type": "stream",
          "text": [
            "Defaulting to user installation because normal site-packages is not writeable\n",
            "Requirement already satisfied: tflite-model-maker in /home/jupyter/.local/lib/python3.8/site-packages (0.4.2)\n",
            "Requirement already satisfied: tflite-support>=0.4.2 in /home/jupyter/.local/lib/python3.8/site-packages (from tflite-model-maker) (0.4.3)\n",
            "Requirement already satisfied: tensorflow-hub<0.13,>=0.7.0 in /home/jupyter/.local/lib/python3.8/site-packages (from tflite-model-maker) (0.12.0)\n",
            "Collecting urllib3!=1.25.0,!=1.25.1,<1.26,>=1.21.1\n",
            "  Downloading urllib3-1.25.11-py2.py3-none-any.whl (127 kB)\n",
            "     |████████████████████████████████| 127 kB 3.2 MB/s            \n",
            "\u001b[?25hRequirement already satisfied: pillow>=7.0.0 in /kernel/lib/python3.8/site-packages (from tflite-model-maker) (9.5.0)\n",
            "Requirement already satisfied: numba==0.53 in /home/jupyter/.local/lib/python3.8/site-packages (from tflite-model-maker) (0.53.0)\n",
            "Requirement already satisfied: six>=1.12.0 in /kernel/lib/python3.8/site-packages (from tflite-model-maker) (1.16.0)\n",
            "Requirement already satisfied: tensorflow-model-optimization>=0.5 in /home/jupyter/.local/lib/python3.8/site-packages (from tflite-model-maker) (0.7.5)\n",
            "Requirement already satisfied: sentencepiece>=0.1.91 in /home/jupyter/.local/lib/python3.8/site-packages (from tflite-model-maker) (0.1.99)\n",
            "Requirement already satisfied: tensorflow>=2.6.0 in /home/jupyter/.local/lib/python3.8/site-packages (from tflite-model-maker) (2.8.4)\n",
            "Requirement already satisfied: tensorflowjs<3.19.0,>=2.4.0 in /home/jupyter/.local/lib/python3.8/site-packages (from tflite-model-maker) (3.18.0)\n",
            "Requirement already satisfied: tf-models-official==2.3.0 in /home/jupyter/.local/lib/python3.8/site-packages (from tflite-model-maker) (2.3.0)\n",
            "Requirement already satisfied: absl-py>=0.10.0 in /home/jupyter/.local/lib/python3.8/site-packages (from tflite-model-maker) (1.4.0)\n",
            "Requirement already satisfied: PyYAML>=5.1 in /usr/local/lib/python3.8/dist-packages (from tflite-model-maker) (5.3.1)\n",
            "Requirement already satisfied: neural-structured-learning>=1.3.1 in /home/jupyter/.local/lib/python3.8/site-packages (from tflite-model-maker) (1.4.0)\n",
            "Requirement already satisfied: numpy>=1.17.3 in /home/jupyter/.local/lib/python3.8/site-packages (from tflite-model-maker) (1.24.3)\n",
            "Requirement already satisfied: flatbuffers>=2.0 in /home/jupyter/.local/lib/python3.8/site-packages (from tflite-model-maker) (23.5.26)\n",
            "Requirement already satisfied: lxml>=4.6.1 in /home/jupyter/.local/lib/python3.8/site-packages (from tflite-model-maker) (4.9.2)\n",
            "Requirement already satisfied: fire>=0.3.1 in /home/jupyter/.local/lib/python3.8/site-packages (from tflite-model-maker) (0.5.0)\n",
            "Requirement already satisfied: Cython>=0.29.13 in /kernel/lib/python3.8/site-packages (from tflite-model-maker) (0.29.26)\n",
            "Requirement already satisfied: tensorflow-addons>=0.11.2 in /home/jupyter/.local/lib/python3.8/site-packages (from tflite-model-maker) (0.20.0)\n",
            "Requirement already satisfied: scann==1.2.6 in /home/jupyter/.local/lib/python3.8/site-packages (from tflite-model-maker) (1.2.6)\n",
            "Requirement already satisfied: tensorflow-datasets>=2.1.0 in /usr/local/lib/python3.8/dist-packages (from tflite-model-maker) (2.1.0)\n",
            "Requirement already satisfied: matplotlib<3.5.0,>=3.0.3 in /usr/local/lib/python3.8/dist-packages (from tflite-model-maker) (3.1.3)\n",
            "Requirement already satisfied: librosa==0.8.1 in /home/jupyter/.local/lib/python3.8/site-packages (from tflite-model-maker) (0.8.1)\n",
            "Requirement already satisfied: scikit-learn!=0.19.0,>=0.14.0 in /usr/local/lib/python3.8/dist-packages (from librosa==0.8.1->tflite-model-maker) (0.22.1)\n",
            "Requirement already satisfied: scipy>=1.0.0 in /usr/local/lib/python3.8/dist-packages (from librosa==0.8.1->tflite-model-maker) (1.4.1)\n",
            "Requirement already satisfied: packaging>=20.0 in /kernel/lib/python3.8/site-packages (from librosa==0.8.1->tflite-model-maker) (20.9)\n",
            "Requirement already satisfied: joblib>=0.14 in /usr/local/lib/python3.8/dist-packages (from librosa==0.8.1->tflite-model-maker) (1.1.0)\n",
            "Requirement already satisfied: audioread>=2.0.0 in /usr/local/lib/python3.8/dist-packages (from librosa==0.8.1->tflite-model-maker) (2.1.9)\n",
            "Requirement already satisfied: pooch>=1.0 in /usr/local/lib/python3.8/dist-packages (from librosa==0.8.1->tflite-model-maker) (1.5.2)\n",
            "Requirement already satisfied: decorator>=3.0.0 in /kernel/lib/python3.8/site-packages (from librosa==0.8.1->tflite-model-maker) (5.1.1)\n",
            "Requirement already satisfied: resampy>=0.2.2 in /usr/local/lib/python3.8/dist-packages (from librosa==0.8.1->tflite-model-maker) (0.2.2)\n",
            "Requirement already satisfied: soundfile>=0.10.2 in /usr/local/lib/python3.8/dist-packages (from librosa==0.8.1->tflite-model-maker) (0.10.3.post1)\n",
            "Requirement already satisfied: llvmlite<0.37,>=0.36.0rc1 in /home/jupyter/.local/lib/python3.8/site-packages (from numba==0.53->tflite-model-maker) (0.36.0)\n",
            "Requirement already satisfied: setuptools in /kernel/lib/python3.8/site-packages (from numba==0.53->tflite-model-maker) (51.0.0)\n",
            "Requirement already satisfied: pandas>=0.22.0 in /usr/local/lib/python3.8/dist-packages (from tf-models-official==2.3.0->tflite-model-maker) (0.25.3)\n",
            "Requirement already satisfied: google-cloud-bigquery>=0.31.0 in /home/jupyter/.local/lib/python3.8/site-packages (from tf-models-official==2.3.0->tflite-model-maker) (3.11.0)\n",
            "Requirement already satisfied: tf-slim>=1.1.0 in /home/jupyter/.local/lib/python3.8/site-packages (from tf-models-official==2.3.0->tflite-model-maker) (1.1.0)\n",
            "Requirement already satisfied: gin-config in /home/jupyter/.local/lib/python3.8/site-packages (from tf-models-official==2.3.0->tflite-model-maker) (0.5.0)\n",
            "Requirement already satisfied: py-cpuinfo>=3.3.0 in /home/jupyter/.local/lib/python3.8/site-packages (from tf-models-official==2.3.0->tflite-model-maker) (9.0.0)\n",
            "Requirement already satisfied: opencv-python-headless in /home/jupyter/.local/lib/python3.8/site-packages (from tf-models-official==2.3.0->tflite-model-maker) (4.7.0.72)\n",
            "Requirement already satisfied: google-api-python-client>=1.6.7 in /usr/local/lib/python3.8/dist-packages (from tf-models-official==2.3.0->tflite-model-maker) (1.8.0)\n",
            "Requirement already satisfied: kaggle>=1.3.9 in /usr/local/lib/python3.8/dist-packages (from tf-models-official==2.3.0->tflite-model-maker) (1.5.8)\n",
            "Requirement already satisfied: dataclasses in /usr/local/lib/python3.8/dist-packages (from tf-models-official==2.3.0->tflite-model-maker) (0.6)\n",
            "Requirement already satisfied: psutil>=5.4.3 in /kernel/lib/python3.8/site-packages (from tf-models-official==2.3.0->tflite-model-maker) (5.7.3)\n",
            "Requirement already satisfied: termcolor in /usr/local/lib/python3.8/dist-packages (from fire>=0.3.1->tflite-model-maker) (1.1.0)\n",
            "Requirement already satisfied: pyparsing!=2.0.4,!=2.1.2,!=2.1.6,>=2.0.1 in /kernel/lib/python3.8/site-packages (from matplotlib<3.5.0,>=3.0.3->tflite-model-maker) (2.4.7)\n",
            "Requirement already satisfied: cycler>=0.10 in /kernel/lib/python3.8/site-packages (from matplotlib<3.5.0,>=3.0.3->tflite-model-maker) (0.11.0)\n",
            "Requirement already satisfied: kiwisolver>=1.0.1 in /kernel/lib/python3.8/site-packages (from matplotlib<3.5.0,>=3.0.3->tflite-model-maker) (1.4.4)\n",
            "Requirement already satisfied: python-dateutil>=2.1 in /kernel/lib/python3.8/site-packages (from matplotlib<3.5.0,>=3.0.3->tflite-model-maker) (2.8.2)\n",
            "Requirement already satisfied: attrs in /kernel/lib/python3.8/site-packages (from neural-structured-learning>=1.3.1->tflite-model-maker) (23.1.0)\n",
            "Requirement already satisfied: astunparse>=1.6.0 in /usr/local/lib/python3.8/dist-packages (from tensorflow>=2.6.0->tflite-model-maker) (1.6.3)\n",
            "Requirement already satisfied: google-pasta>=0.1.1 in /usr/local/lib/python3.8/dist-packages (from tensorflow>=2.6.0->tflite-model-maker) (0.2.0)\n",
            "Requirement already satisfied: keras<2.9,>=2.8.0rc0 in /home/jupyter/.local/lib/python3.8/site-packages (from tensorflow>=2.6.0->tflite-model-maker) (2.8.0)\n",
            "Requirement already satisfied: keras-preprocessing>=1.1.1 in /usr/local/lib/python3.8/dist-packages (from tensorflow>=2.6.0->tflite-model-maker) (1.1.2)\n",
            "Requirement already satisfied: libclang>=9.0.1 in /home/jupyter/.local/lib/python3.8/site-packages (from tensorflow>=2.6.0->tflite-model-maker) (16.0.0)\n",
            "Requirement already satisfied: protobuf<3.20,>=3.9.2 in /home/jupyter/.local/lib/python3.8/site-packages (from tensorflow>=2.6.0->tflite-model-maker) (3.19.6)\n",
            "Requirement already satisfied: h5py>=2.9.0 in /usr/local/lib/python3.8/dist-packages (from tensorflow>=2.6.0->tflite-model-maker) (3.1.0)\n",
            "Requirement already satisfied: typing-extensions>=3.6.6 in /usr/local/lib/python3.8/dist-packages (from tensorflow>=2.6.0->tflite-model-maker) (3.7.4.3)\n",
            "Requirement already satisfied: tensorflow-estimator<2.9,>=2.8 in /home/jupyter/.local/lib/python3.8/site-packages (from tensorflow>=2.6.0->tflite-model-maker) (2.8.0)\n",
            "Requirement already satisfied: gast>=0.2.1 in /usr/local/lib/python3.8/dist-packages (from tensorflow>=2.6.0->tflite-model-maker) (0.4.0)\n",
            "Requirement already satisfied: tensorflow-io-gcs-filesystem>=0.23.1 in /home/jupyter/.local/lib/python3.8/site-packages (from tensorflow>=2.6.0->tflite-model-maker) (0.32.0)\n",
            "Requirement already satisfied: tensorboard<2.9,>=2.8 in /home/jupyter/.local/lib/python3.8/site-packages (from tensorflow>=2.6.0->tflite-model-maker) (2.8.0)\n",
            "Requirement already satisfied: wrapt>=1.11.0 in /kernel/lib/python3.8/site-packages (from tensorflow>=2.6.0->tflite-model-maker) (1.15.0)\n",
            "Requirement already satisfied: grpcio<2.0,>=1.24.3 in /home/jupyter/.local/lib/python3.8/site-packages (from tensorflow>=2.6.0->tflite-model-maker) (1.54.2)\n",
            "Requirement already satisfied: opt-einsum>=2.3.2 in /usr/local/lib/python3.8/dist-packages (from tensorflow>=2.6.0->tflite-model-maker) (3.3.0)\n",
            "Requirement already satisfied: typeguard<3.0.0,>=2.7 in /home/jupyter/.local/lib/python3.8/site-packages (from tensorflow-addons>=0.11.2->tflite-model-maker) (2.13.3)\n",
            "Requirement already satisfied: tqdm in /usr/local/lib/python3.8/dist-packages (from tensorflow-datasets>=2.1.0->tflite-model-maker) (4.50.0)\n",
            "Requirement already satisfied: promise in /usr/local/lib/python3.8/dist-packages (from tensorflow-datasets>=2.1.0->tflite-model-maker) (2.3)\n",
            "Requirement already satisfied: requests>=2.19.0 in /kernel/lib/python3.8/site-packages (from tensorflow-datasets>=2.1.0->tflite-model-maker) (2.25.1)\n",
            "Requirement already satisfied: tensorflow-metadata in /home/jupyter/.local/lib/python3.8/site-packages (from tensorflow-datasets>=2.1.0->tflite-model-maker) (1.13.0)\n",
            "Requirement already satisfied: future in /usr/local/lib/python3.8/dist-packages (from tensorflow-datasets>=2.1.0->tflite-model-maker) (0.18.2)\n",
            "Requirement already satisfied: dill in /usr/local/lib/python3.8/dist-packages (from tensorflow-datasets>=2.1.0->tflite-model-maker) (0.3.4)\n",
            "Requirement already satisfied: dm-tree~=0.1.1 in /home/jupyter/.local/lib/python3.8/site-packages (from tensorflow-model-optimization>=0.5->tflite-model-maker) (0.1.8)\n",
            "Requirement already satisfied: pybind11>=2.6.0 in /home/jupyter/.local/lib/python3.8/site-packages (from tflite-support>=0.4.2->tflite-model-maker) (2.10.4)\n",
            "Requirement already satisfied: sounddevice>=0.4.4 in /home/jupyter/.local/lib/python3.8/site-packages (from tflite-support>=0.4.2->tflite-model-maker) (0.4.6)\n",
            "Requirement already satisfied: wheel<1.0,>=0.23.0 in /usr/local/lib/python3.8/dist-packages (from astunparse>=1.6.0->tensorflow>=2.6.0->tflite-model-maker) (0.37.1)\n",
            "Requirement already satisfied: httplib2<1dev,>=0.9.2 in /usr/local/lib/python3.8/dist-packages (from google-api-python-client>=1.6.7->tf-models-official==2.3.0->tflite-model-maker) (0.20.2)\n",
            "Requirement already satisfied: uritemplate<4dev,>=3.0.0 in /usr/local/lib/python3.8/dist-packages (from google-api-python-client>=1.6.7->tf-models-official==2.3.0->tflite-model-maker) (3.0.1)\n",
            "Requirement already satisfied: google-auth>=1.4.1 in /usr/local/lib/python3.8/dist-packages (from google-api-python-client>=1.6.7->tf-models-official==2.3.0->tflite-model-maker) (1.35.0)\n",
            "Requirement already satisfied: google-auth-httplib2>=0.0.3 in /usr/local/lib/python3.8/dist-packages (from google-api-python-client>=1.6.7->tf-models-official==2.3.0->tflite-model-maker) (0.1.0)\n",
            "Requirement already satisfied: google-api-core<2dev,>=1.13.0 in /usr/local/lib/python3.8/dist-packages (from google-api-python-client>=1.6.7->tf-models-official==2.3.0->tflite-model-maker) (1.31.5)\n",
            "Requirement already satisfied: google-cloud-core<3.0.0dev,>=1.6.0 in /home/jupyter/.local/lib/python3.8/site-packages (from google-cloud-bigquery>=0.31.0->tf-models-official==2.3.0->tflite-model-maker) (2.3.1)\n",
            "Requirement already satisfied: google-resumable-media<3.0dev,>=0.6.0 in /home/jupyter/.local/lib/python3.8/site-packages (from google-cloud-bigquery>=0.31.0->tf-models-official==2.3.0->tflite-model-maker) (2.5.0)\n",
            "Requirement already satisfied: proto-plus<2.0.0dev,>=1.15.0 in /home/jupyter/.local/lib/python3.8/site-packages (from google-cloud-bigquery>=0.31.0->tf-models-official==2.3.0->tflite-model-maker) (1.22.2)\n",
            "Requirement already satisfied: certifi in /kernel/lib/python3.8/site-packages (from kaggle>=1.3.9->tf-models-official==2.3.0->tflite-model-maker) (2023.5.7)\n",
            "Requirement already satisfied: python-slugify in /usr/local/lib/python3.8/dist-packages (from kaggle>=1.3.9->tf-models-official==2.3.0->tflite-model-maker) (5.0.2)\n",
            "  Downloading urllib3-1.24.3-py2.py3-none-any.whl (118 kB)\n",
            "     |████████████████████████████████| 118 kB 16.5 MB/s            \n",
            "\u001b[?25hRequirement already satisfied: slugify in /usr/local/lib/python3.8/dist-packages (from kaggle>=1.3.9->tf-models-official==2.3.0->tflite-model-maker) (0.0.1)\n",
            "Requirement already satisfied: pytz>=2017.2 in /usr/local/lib/python3.8/dist-packages (from pandas>=0.22.0->tf-models-official==2.3.0->tflite-model-maker) (2021.3)\n",
            "Requirement already satisfied: appdirs in /usr/local/lib/python3.8/dist-packages (from pooch>=1.0->librosa==0.8.1->tflite-model-maker) (1.4.4)\n",
            "Requirement already satisfied: chardet<5,>=3.0.2 in /kernel/lib/python3.8/site-packages (from requests>=2.19.0->tensorflow-datasets>=2.1.0->tflite-model-maker) (4.0.0)\n",
            "Requirement already satisfied: idna<3,>=2.5 in /kernel/lib/python3.8/site-packages (from requests>=2.19.0->tensorflow-datasets>=2.1.0->tflite-model-maker) (2.10)\n",
            "Requirement already satisfied: CFFI>=1.0 in /kernel/lib/python3.8/site-packages (from sounddevice>=0.4.4->tflite-support>=0.4.2->tflite-model-maker) (1.15.1)\n",
            "Requirement already satisfied: werkzeug>=0.11.15 in /usr/local/lib/python3.8/dist-packages (from tensorboard<2.9,>=2.8->tensorflow>=2.6.0->tflite-model-maker) (2.0.2)\n",
            "Requirement already satisfied: tensorboard-plugin-wit>=1.6.0 in /usr/local/lib/python3.8/dist-packages (from tensorboard<2.9,>=2.8->tensorflow>=2.6.0->tflite-model-maker) (1.8.0)\n",
            "Requirement already satisfied: markdown>=2.6.8 in /usr/local/lib/python3.8/dist-packages (from tensorboard<2.9,>=2.8->tensorflow>=2.6.0->tflite-model-maker) (3.3.6)\n",
            "Requirement already satisfied: google-auth-oauthlib<0.5,>=0.4.1 in /usr/local/lib/python3.8/dist-packages (from tensorboard<2.9,>=2.8->tensorflow>=2.6.0->tflite-model-maker) (0.4.6)\n",
            "Requirement already satisfied: tensorboard-data-server<0.7.0,>=0.6.0 in /usr/local/lib/python3.8/dist-packages (from tensorboard<2.9,>=2.8->tensorflow>=2.6.0->tflite-model-maker) (0.6.1)\n",
            "Requirement already satisfied: googleapis-common-protos<2,>=1.52.0 in /usr/local/lib/python3.8/dist-packages (from tensorflow-metadata->tensorflow-datasets>=2.1.0->tflite-model-maker) (1.54.0)\n",
            "Requirement already satisfied: pycparser in /kernel/lib/python3.8/site-packages (from CFFI>=1.0->sounddevice>=0.4.4->tflite-support>=0.4.2->tflite-model-maker) (2.21)\n",
            "Requirement already satisfied: cachetools<5.0,>=2.0.0 in /usr/local/lib/python3.8/dist-packages (from google-auth>=1.4.1->google-api-python-client>=1.6.7->tf-models-official==2.3.0->tflite-model-maker) (4.2.4)\n",
            "Requirement already satisfied: rsa<5,>=3.1.4 in /usr/local/lib/python3.8/dist-packages (from google-auth>=1.4.1->google-api-python-client>=1.6.7->tf-models-official==2.3.0->tflite-model-maker) (4.8)\n",
            "Requirement already satisfied: pyasn1-modules>=0.2.1 in /usr/local/lib/python3.8/dist-packages (from google-auth>=1.4.1->google-api-python-client>=1.6.7->tf-models-official==2.3.0->tflite-model-maker) (0.2.8)\n",
            "Requirement already satisfied: requests-oauthlib>=0.7.0 in /usr/local/lib/python3.8/dist-packages (from google-auth-oauthlib<0.5,>=0.4.1->tensorboard<2.9,>=2.8->tensorflow>=2.6.0->tflite-model-maker) (1.3.0)\n",
            "Requirement already satisfied: google-crc32c<2.0dev,>=1.0 in /home/jupyter/.local/lib/python3.8/site-packages (from google-resumable-media<3.0dev,>=0.6.0->google-cloud-bigquery>=0.31.0->tf-models-official==2.3.0->tflite-model-maker) (1.5.0)\n",
            "Requirement already satisfied: importlib-metadata>=4.4 in /kernel/lib/python3.8/site-packages (from markdown>=2.6.8->tensorboard<2.9,>=2.8->tensorflow>=2.6.0->tflite-model-maker) (6.6.0)\n",
            "Requirement already satisfied: text-unidecode>=1.3 in /usr/local/lib/python3.8/dist-packages (from python-slugify->kaggle>=1.3.9->tf-models-official==2.3.0->tflite-model-maker) (1.3)\n",
            "Requirement already satisfied: zipp>=0.5 in /kernel/lib/python3.8/site-packages (from importlib-metadata>=4.4->markdown>=2.6.8->tensorboard<2.9,>=2.8->tensorflow>=2.6.0->tflite-model-maker) (3.15.0)\n",
            "Requirement already satisfied: pyasn1<0.5.0,>=0.4.6 in /usr/local/lib/python3.8/dist-packages (from pyasn1-modules>=0.2.1->google-auth>=1.4.1->google-api-python-client>=1.6.7->tf-models-official==2.3.0->tflite-model-maker) (0.4.8)\n",
            "Requirement already satisfied: oauthlib>=3.0.0 in /usr/local/lib/python3.8/dist-packages (from requests-oauthlib>=0.7.0->google-auth-oauthlib<0.5,>=0.4.1->tensorboard<2.9,>=2.8->tensorflow>=2.6.0->tflite-model-maker) (3.1.1)\n",
            "Installing collected packages: urllib3\n",
            "\u001b[31mERROR: pip's dependency resolver does not currently take into account all the packages that are installed. This behaviour is the source of the following dependency conflicts.\n",
            "roboflow 1.0.9 requires certifi==2022.12.7, but you have certifi 2023.5.7 which is incompatible.\n",
            "roboflow 1.0.9 requires cycler==0.10.0, but you have cycler 0.11.0 which is incompatible.\n",
            "roboflow 1.0.9 requires urllib3>=1.26.6, but you have urllib3 1.24.3 which is incompatible.\n",
            "moto 1.3.14 requires idna<2.9,>=2.5, but you have idna 2.10 which is incompatible.\n",
            "aws-sam-translator 1.42.0 requires jsonschema~=3.2, but you have jsonschema 4.17.3 which is incompatible.\u001b[0m\n",
            "Successfully installed urllib3-1.24.3\n",
            "\u001b[33mWARNING: You are using pip version 21.3.1; however, version 23.1.2 is available.\n",
            "You should consider upgrading via the '/usr/local/bin/python3 -m pip install --upgrade pip' command.\u001b[0m\n"
          ]
        }
      ],
      "source": [
        "#!c1.8\n",
        "%pip install tflite-model-maker"
      ]
    },
    {
      "cell_type": "code",
      "execution_count": null,
      "id": "51b633db",
      "metadata": {
        "cellId": "m8m10wjvf5a9s52y3667a8",
        "id": "51b633db",
        "outputId": "eb2be97c-917c-4080-890f-252ecc5f7cbc"
      },
      "outputs": [
        {
          "name": "stdout",
          "output_type": "stream",
          "text": [
            "Defaulting to user installation because normal site-packages is not writeable\n",
            "Collecting jsonschema==3.2.0\n",
            "  Downloading jsonschema-3.2.0-py2.py3-none-any.whl (56 kB)\n",
            "     |████████████████████████████████| 56 kB 1.1 MB/s            \n",
            "\u001b[?25hRequirement already satisfied: pyrsistent>=0.14.0 in /kernel/lib/python3.8/site-packages (from jsonschema==3.2.0) (0.19.3)\n",
            "Requirement already satisfied: attrs>=17.4.0 in /kernel/lib/python3.8/site-packages (from jsonschema==3.2.0) (23.1.0)\n",
            "Requirement already satisfied: six>=1.11.0 in /kernel/lib/python3.8/site-packages (from jsonschema==3.2.0) (1.16.0)\n",
            "Requirement already satisfied: setuptools in /kernel/lib/python3.8/site-packages (from jsonschema==3.2.0) (51.0.0)\n",
            "Installing collected packages: jsonschema\n",
            "\u001b[33m  WARNING: The script jsonschema is installed in '/home/jupyter/.local/bin' which is not on PATH.\n",
            "  Consider adding this directory to PATH or, if you prefer to suppress this warning, use --no-warn-script-location.\u001b[0m\n",
            "Successfully installed jsonschema-3.2.0\n",
            "\u001b[33mWARNING: You are using pip version 21.3.1; however, version 23.1.2 is available.\n",
            "You should consider upgrading via the '/usr/local/bin/python3 -m pip install --upgrade pip' command.\u001b[0m\n"
          ]
        }
      ],
      "source": [
        "#!c1.8\n",
        "%pip install -U jsonschema==3.2.0"
      ]
    },
    {
      "cell_type": "code",
      "execution_count": null,
      "id": "4878dc4b",
      "metadata": {
        "cellId": "j07l3szthbwvnxb4ibpn",
        "id": "4878dc4b",
        "outputId": "9bb2339d-9d2e-41af-f30f-09a8610ce2a4"
      },
      "outputs": [
        {
          "name": "stderr",
          "output_type": "stream",
          "text": [
            "/home/jupyter/.local/lib/python3.8/site-packages/tensorflow_addons/utils/tfa_eol_msg.py:23: UserWarning: \n",
            "\n",
            "TensorFlow Addons (TFA) has ended development and introduction of new features.\n",
            "TFA has entered a minimal maintenance and release mode until a planned end of life in May 2024.\n",
            "Please modify downstream libraries to take dependencies from other repositories in our TensorFlow community (e.g. Keras, Keras-CV, and Keras-NLP). \n",
            "\n",
            "For more information see: https://github.com/tensorflow/addons/issues/2807 \n",
            "\n",
            "  warnings.warn(\n",
            "/home/jupyter/.local/lib/python3.8/site-packages/tensorflow_addons/utils/tfa_eol_msg.py:23: UserWarning: \n",
            "\n",
            "TensorFlow Addons (TFA) has ended development and introduction of new features.\n",
            "TFA has entered a minimal maintenance and release mode until a planned end of life in May 2024.\n",
            "Please modify downstream libraries to take dependencies from other repositories in our TensorFlow community (e.g. Keras, Keras-CV, and Keras-NLP). \n",
            "\n",
            "For more information see: https://github.com/tensorflow/addons/issues/2807 \n",
            "\n",
            "  warnings.warn(\n",
            "/home/jupyter/.local/lib/python3.8/site-packages/tensorflow_addons/utils/ensure_tf_install.py:53: UserWarning: Tensorflow Addons supports using Python ops for all Tensorflow versions above or equal to 2.10.0 and strictly below 2.13.0 (nightly versions are not supported). \n",
            " The versions of TensorFlow you are currently using is 2.8.4 and is not supported. \n",
            "Some things might work, some things might not.\n",
            "If you were to encounter a bug, do not file an issue.\n",
            "If you want to make sure you're using a tested and supported configuration, either change the TensorFlow version or the TensorFlow Addons's version. \n",
            "You can find the compatibility matrix in TensorFlow Addon's readme:\n",
            "https://github.com/tensorflow/addons\n",
            "  warnings.warn(\n"
          ]
        }
      ],
      "source": [
        "#!c1.8\n",
        "import tflite_model_maker"
      ]
    },
    {
      "cell_type": "code",
      "execution_count": null,
      "id": "3c8e96c3",
      "metadata": {
        "cellId": "5xdeie39ydy4jgjr1h5l6",
        "id": "3c8e96c3",
        "outputId": "285e56b6-d024-4438-dde8-ed389c2c81fc"
      },
      "outputs": [
        {
          "name": "stdout",
          "output_type": "stream",
          "text": [
            "Defaulting to user installation because normal site-packages is not writeable\n",
            "Collecting roboflow\n",
            "  Downloading roboflow-1.0.9-py3-none-any.whl (56 kB)\n",
            "     |████████████████████████████████| 56 kB 1.9 MB/s             \n",
            "\u001b[?25hRequirement already satisfied: idna==2.10 in /kernel/lib/python3.8/site-packages (from roboflow) (2.10)\n",
            "Collecting requests-toolbelt\n",
            "  Downloading requests_toolbelt-1.0.0-py2.py3-none-any.whl (54 kB)\n",
            "     |████████████████████████████████| 54 kB 3.7 MB/s             \n",
            "\u001b[?25hRequirement already satisfied: python-dateutil in /kernel/lib/python3.8/site-packages (from roboflow) (2.8.2)\n",
            "Requirement already satisfied: matplotlib in /usr/local/lib/python3.8/dist-packages (from roboflow) (3.1.3)\n",
            "Requirement already satisfied: PyYAML>=5.3.1 in /usr/local/lib/python3.8/dist-packages (from roboflow) (5.3.1)\n",
            "Requirement already satisfied: six in /kernel/lib/python3.8/site-packages (from roboflow) (1.16.0)\n",
            "Requirement already satisfied: Pillow>=7.1.2 in /kernel/lib/python3.8/site-packages (from roboflow) (9.5.0)\n",
            "Requirement already satisfied: tqdm>=4.41.0 in /usr/local/lib/python3.8/dist-packages (from roboflow) (4.50.0)\n",
            "Collecting python-dotenv\n",
            "  Downloading python_dotenv-1.0.0-py3-none-any.whl (19 kB)\n",
            "Collecting certifi==2022.12.7\n",
            "  Downloading certifi-2022.12.7-py3-none-any.whl (155 kB)\n",
            "     |████████████████████████████████| 155 kB 12.6 MB/s            \n",
            "\u001b[?25hRequirement already satisfied: pyparsing==2.4.7 in /kernel/lib/python3.8/site-packages (from roboflow) (2.4.7)\n",
            "Requirement already satisfied: numpy>=1.18.5 in /home/jupyter/.local/lib/python3.8/site-packages (from roboflow) (1.24.3)\n",
            "Requirement already satisfied: requests in /kernel/lib/python3.8/site-packages (from roboflow) (2.25.1)\n",
            "Collecting opencv-python>=4.1.2\n",
            "  Downloading opencv_python-4.7.0.72-cp37-abi3-manylinux_2_17_x86_64.manylinux2014_x86_64.whl (61.8 MB)\n",
            "     |████████████████████████████████| 61.8 MB 96 kB/s              \n",
            "\u001b[?25hRequirement already satisfied: kiwisolver>=1.3.1 in /kernel/lib/python3.8/site-packages (from roboflow) (1.4.4)\n",
            "Requirement already satisfied: chardet==4.0.0 in /kernel/lib/python3.8/site-packages (from roboflow) (4.0.0)\n",
            "Requirement already satisfied: wget in /usr/local/lib/python3.8/dist-packages (from roboflow) (3.2)\n",
            "Requirement already satisfied: urllib3>=1.26.6 in /kernel/lib/python3.8/site-packages (from roboflow) (1.26.16)\n",
            "Collecting cycler==0.10.0\n",
            "  Downloading cycler-0.10.0-py2.py3-none-any.whl (6.5 kB)\n",
            "Installing collected packages: certifi, cycler, requests-toolbelt, python-dotenv, opencv-python, roboflow\n",
            "\u001b[33m  WARNING: The script dotenv is installed in '/home/jupyter/.local/bin' which is not on PATH.\n",
            "  Consider adding this directory to PATH or, if you prefer to suppress this warning, use --no-warn-script-location.\u001b[0m\n",
            "\u001b[31mERROR: pip's dependency resolver does not currently take into account all the packages that are installed. This behaviour is the source of the following dependency conflicts.\n",
            "moto 1.3.14 requires idna<2.9,>=2.5, but you have idna 2.10 which is incompatible.\n",
            "kaggle 1.5.8 requires urllib3<1.25,>=1.21.1, but you have urllib3 1.26.16 which is incompatible.\u001b[0m\n",
            "Successfully installed certifi-2022.12.7 cycler-0.10.0 opencv-python-4.7.0.72 python-dotenv-1.0.0 requests-toolbelt-1.0.0 roboflow-1.0.9\n",
            "\u001b[33mWARNING: You are using pip version 21.3.1; however, version 23.1.2 is available.\n",
            "You should consider upgrading via the '/usr/local/bin/python3 -m pip install --upgrade pip' command.\u001b[0m\n"
          ]
        }
      ],
      "source": [
        "%pip install roboflow\n"
      ]
    },
    {
      "cell_type": "code",
      "execution_count": null,
      "id": "f3063b52",
      "metadata": {
        "cellId": "9ge027m1j8c0yidt3y089c",
        "id": "f3063b52",
        "outputId": "c67b7c45-93d8-4d97-d467-bb5de3e2168c"
      },
      "outputs": [
        {
          "name": "stdout",
          "output_type": "stream",
          "text": [
            "Downloading Dataset Version Zip in furniture-2 to voc: 100% [56796297 / 56796297] bytes\n"
          ]
        },
        {
          "name": "stderr",
          "output_type": "stream",
          "text": [
            "Extracting Dataset Version Zip to furniture-2 in voc:: 100%|██████████| 1383/1383 [00:01<00:00, 714.11it/s]\n"
          ]
        }
      ],
      "source": [
        "# Import Roboflow library. Roboflow helps to manage, preprocess and version the datasets for Computer Vision.\n",
        "from roboflow import Roboflow\n",
        "\n",
        "# Set the Roboflow API key to access the Roboflow account and fetch the dataset.\n",
        "roboflow_api_key = \"xxxxxxxxxxxxxxxx\"\n",
        "roboflow_client = Roboflow(api_key=roboflow_api_key)\n",
        "\n",
        "# Define the workspace and project names in Roboflow.\n",
        "roboflow_workspace_name = \"project-pq69h\"\n",
        "roboflow_project_name = \"mtuci-vkr2\"\n",
        "\n",
        "# Fetch the project from Roboflow.\n",
        "roboflow_project = roboflow_client.workspace(roboflow_workspace_name).project(roboflow_project_name)\n",
        "\n",
        "# Download the required version of the project in VOC format.\n",
        "dataset_version_number = 10\n",
        "roboflow_dataset = roboflow_project.version(dataset_version_number).download(\"voc\")\n"
      ]
    },
    {
      "cell_type": "code",
      "execution_count": null,
      "id": "25ef7150",
      "metadata": {
        "cellId": "vpwm6x1hdye9fgadquybxm",
        "id": "25ef7150",
        "outputId": "024fbaa4-be3d-4105-e78d-e5392ae5c738"
      },
      "outputs": [
        {
          "name": "stderr",
          "output_type": "stream",
          "text": [
            "/home/jupyter/.local/lib/python3.8/site-packages/tensorflow_addons/utils/tfa_eol_msg.py:23: UserWarning: \n",
            "\n",
            "TensorFlow Addons (TFA) has ended development and introduction of new features.\n",
            "TFA has entered a minimal maintenance and release mode until a planned end of life in May 2024.\n",
            "Please modify downstream libraries to take dependencies from other repositories in our TensorFlow community (e.g. Keras, Keras-CV, and Keras-NLP). \n",
            "\n",
            "For more information see: https://github.com/tensorflow/addons/issues/2807 \n",
            "\n",
            "  warnings.warn(\n",
            "/home/jupyter/.local/lib/python3.8/site-packages/tensorflow_addons/utils/tfa_eol_msg.py:23: UserWarning: \n",
            "\n",
            "TensorFlow Addons (TFA) has ended development and introduction of new features.\n",
            "TFA has entered a minimal maintenance and release mode until a planned end of life in May 2024.\n",
            "Please modify downstream libraries to take dependencies from other repositories in our TensorFlow community (e.g. Keras, Keras-CV, and Keras-NLP). \n",
            "\n",
            "For more information see: https://github.com/tensorflow/addons/issues/2807 \n",
            "\n",
            "  warnings.warn(\n",
            "/home/jupyter/.local/lib/python3.8/site-packages/tensorflow_addons/utils/ensure_tf_install.py:53: UserWarning: Tensorflow Addons supports using Python ops for all Tensorflow versions above or equal to 2.10.0 and strictly below 2.13.0 (nightly versions are not supported). \n",
            " The versions of TensorFlow you are currently using is 2.8.4 and is not supported. \n",
            "Some things might work, some things might not.\n",
            "If you were to encounter a bug, do not file an issue.\n",
            "If you want to make sure you're using a tested and supported configuration, either change the TensorFlow version or the TensorFlow Addons's version. \n",
            "You can find the compatibility matrix in TensorFlow Addon's readme:\n",
            "https://github.com/tensorflow/addons\n",
            "  warnings.warn(\n"
          ]
        }
      ],
      "source": [
        "#!c1.8\n",
        "from tflite_model_maker.config import ExportFormat \n",
        "from tflite_model_maker import model_spec\n",
        "from tflite_model_maker import object_detector\n",
        "import tensorflow as tf\n",
        "from absl import logging\n",
        "import numpy as np\n",
        "import os\n",
        "\n",
        "# Ensure the TensorFlow version is 2.x, which is required for tflite_model_maker.\n",
        "assert tf.__version__.startswith('2')\n",
        "\n",
        "\n",
        "from absl import logging\n",
        "# Set log levels for TensorFlow and absl to ERROR to avoid distractions during model training.\n",
        "tf.get_logger().setLevel('ERROR')\n",
        "logging.set_verbosity(logging.ERROR)\n",
        "\n",
        "\n"
      ]
    },
    {
      "cell_type": "code",
      "execution_count": null,
      "id": "fd4ba519",
      "metadata": {
        "cellId": "vhrc5tx0i3h190m6sozyyf",
        "id": "fd4ba519"
      },
      "outputs": [],
      "source": [
        "#!c1.8\n",
        "\n",
        "# Define the labels that are present in the dataset.\n",
        "object_labels = ['0', 'A', 'B', 'C', 'E', 'H', 'K', 'M', 'O', 'P', 'T', 'X', 'Y', '_0', '_1', '_2', '_3', '_4', '_5', '_6', '_7', '_8', '_9']\n",
        "\n",
        "# Define the directories for images and annotations for training, validation and testing data.\n",
        "training_images_directory = 'train'\n",
        "training_annotations_directory = 'train'\n",
        "validation_images_directory = 'valid'\n",
        "validation_annotations_directory = 'valid'\n",
        "testing_images_directory = 'test'\n",
        "testing_annotations_directory = 'test'\n"
      ]
    },
    {
      "cell_type": "code",
      "execution_count": null,
      "id": "3a5ceb5a",
      "metadata": {
        "cellId": "f7ndguqv0akqrv7fwfs66",
        "id": "3a5ceb5a",
        "outputId": "61103cc4-3d3e-4867-ff30-bebfca7d98a5"
      },
      "outputs": [
        {
          "name": "stderr",
          "output_type": "stream",
          "text": [
            "/home/jupyter/.local/lib/python3.8/site-packages/tensorflow_addons/utils/tfa_eol_msg.py:23: UserWarning: \n",
            "\n",
            "TensorFlow Addons (TFA) has ended development and introduction of new features.\n",
            "TFA has entered a minimal maintenance and release mode until a planned end of life in May 2024.\n",
            "Please modify downstream libraries to take dependencies from other repositories in our TensorFlow community (e.g. Keras, Keras-CV, and Keras-NLP). \n",
            "\n",
            "For more information see: https://github.com/tensorflow/addons/issues/2807 \n",
            "\n",
            "  warnings.warn(\n",
            "/home/jupyter/.local/lib/python3.8/site-packages/tensorflow_addons/utils/tfa_eol_msg.py:23: UserWarning: \n",
            "\n",
            "TensorFlow Addons (TFA) has ended development and introduction of new features.\n",
            "TFA has entered a minimal maintenance and release mode until a planned end of life in May 2024.\n",
            "Please modify downstream libraries to take dependencies from other repositories in our TensorFlow community (e.g. Keras, Keras-CV, and Keras-NLP). \n",
            "\n",
            "For more information see: https://github.com/tensorflow/addons/issues/2807 \n",
            "\n",
            "  warnings.warn(\n",
            "/home/jupyter/.local/lib/python3.8/site-packages/tensorflow_addons/utils/ensure_tf_install.py:53: UserWarning: Tensorflow Addons supports using Python ops for all Tensorflow versions above or equal to 2.10.0 and strictly below 2.13.0 (nightly versions are not supported). \n",
            " The versions of TensorFlow you are currently using is 2.8.4 and is not supported. \n",
            "Some things might work, some things might not.\n",
            "If you were to encounter a bug, do not file an issue.\n",
            "If you want to make sure you're using a tested and supported configuration, either change the TensorFlow version or the TensorFlow Addons's version. \n",
            "You can find the compatibility matrix in TensorFlow Addon's readme:\n",
            "https://github.com/tensorflow/addons\n",
            "  warnings.warn(\n"
          ]
        },
        {
          "name": "stdout",
          "output_type": "stream",
          "text": [
            "INFO:tensorflow:Cache will be stored in /tmp/tmpos49glgj with prefix filename 7bee435cfee6949ada7cad38d32e815e. Cache_prefix is /tmp/tmpos49glgj/7bee435cfee6949ada7cad38d32e815e\n",
            "INFO:tensorflow:On image 0\n",
            "INFO:tensorflow:On image 100\n",
            "INFO:tensorflow:On image 200\n",
            "INFO:tensorflow:On image 300\n",
            "INFO:tensorflow:On image 400\n",
            "INFO:tensorflow:On image 500\n",
            "INFO:tensorflow:On image 600\n",
            "INFO:tensorflow:On image 700\n",
            "INFO:tensorflow:On image 800\n",
            "INFO:tensorflow:Cache will be stored in /tmp/tmpb7g5q4ym with prefix filename 11a526a320c4c8a1416196ba3144593c. Cache_prefix is /tmp/tmpb7g5q4ym/11a526a320c4c8a1416196ba3144593c\n",
            "INFO:tensorflow:On image 0\n",
            "INFO:tensorflow:Cache will be stored in /tmp/tmp7u3io3qi with prefix filename fd42585a6188df7d3abc4e516ad0ebb5. Cache_prefix is /tmp/tmp7u3io3qi/fd42585a6188df7d3abc4e516ad0ebb5\n",
            "INFO:tensorflow:On image 0\n",
            "train count: 870\n",
            "validation count: 74\n",
            "test count: 41\n"
          ]
        }
      ],
      "source": [
        "#!c1.8\n",
        "\n",
        "# Load training, validation, and testing data from Pascal VOC format, which is a common format for image data.\n",
        "training_data = object_detector.DataLoader.from_pascal_voc(\n",
        "    images_dir=training_images_directory,\n",
        "    annotations_dir=training_annotations_directory,\n",
        "    label_map=object_labels, \n",
        "    ignore_difficult_instances=True)\n",
        "validation_data = object_detector.DataLoader.from_pascal_voc(\n",
        "    images_dir=validation_images_directory,\n",
        "    annotations_dir=validation_annotations_directory, \n",
        "    label_map=object_labels, \n",
        "    ignore_difficult_instances=True)\n",
        "testing_data = object_detector.DataLoader.from_pascal_voc(\n",
        "    images_dir=testing_images_directory, \n",
        "    annotations_dir=testing_annotations_directory, \n",
        "    label_map=object_labels, \n",
        "    ignore_difficult_instances=True)\n",
        " \n",
        "    \n",
        "# Print the number of examples in each data set to verify the data loading process.\n",
        "print('Number of training examples:', len(training_data))\n",
        "print('Number of validation examples:', len(validation_data))\n",
        "print('Number of testing examples:', len(testing_data))\n"
      ]
    },
    {
      "cell_type": "code",
      "execution_count": null,
      "id": "b7be867f",
      "metadata": {
        "cellId": "80kgf8c8169cej8cerid19",
        "id": "b7be867f"
      },
      "outputs": [],
      "source": [
        "# #!c1.8\n",
        "# import os\n",
        "\n",
        "# folder_path = \"./Annotations\"  # Replace with the path to your folder\n",
        "\n",
        "# # Get a list of all XML files in the folder\n",
        "# xml_files = [file for file in os.listdir(folder_path) if file.endswith(\".xml\")]\n",
        "\n",
        "# for file_name in xml_files:\n",
        "#     file_path = os.path.join(folder_path, file_name)\n",
        "\n",
        "#     # Read the contents of the file, excluding the first line\n",
        "#     with open(file_path, \"r\") as file:\n",
        "#         lines = file.readlines()[1:]\n",
        "\n",
        "#     # Write the modified contents back to the file\n",
        "#     with open(file_path, \"w\") as file:\n",
        "#         file.writelines(lines)"
      ]
    },
    {
      "cell_type": "code",
      "execution_count": null,
      "id": "34cfe237",
      "metadata": {
        "cellId": "pju2ykii3kcdad0nf2kwb",
        "id": "34cfe237",
        "outputId": "4d6901cc-13c5-4ad6-c282-a4229aa4153e"
      },
      "outputs": [
        {
          "name": "stderr",
          "output_type": "stream",
          "text": [
            "2023-06-08 20:10:07.122774: W tensorflow/stream_executor/platform/default/dso_loader.cc:64] Could not load dynamic library 'libcuda.so.1'; dlerror: libcuda.so.1: cannot open shared object file: No such file or directory; LD_LIBRARY_PATH: /usr/local/nvidia/lib:/usr/local/nvidia/lib64:/usr/local/cuda/lib64\n",
            "2023-06-08 20:10:07.122810: W tensorflow/stream_executor/cuda/cuda_driver.cc:269] failed call to cuInit: UNKNOWN ERROR (303)\n"
          ]
        }
      ],
      "source": [
        "#!c1.8\n",
        "# Select the model specification - EfficientDetLite0Spec is used here.\n",
        "model_specification = object_detector.EfficientDetLite0Spec()\n"
      ]
    },
    {
      "cell_type": "code",
      "execution_count": null,
      "id": "ee52888f",
      "metadata": {
        "cellId": "s2mt14nardnxfz3qdpbxq",
        "id": "ee52888f",
        "outputId": "f135fede-32d2-400d-bfe6-3989d7dec0b1"
      },
      "outputs": [
        {
          "name": "stdout",
          "output_type": "stream",
          "text": [
            "Defaulting to user installation because normal site-packages is not writeable\n",
            "Requirement already satisfied: pycocotools in /home/jupyter/.local/lib/python3.8/site-packages (2.0.6)\n",
            "Requirement already satisfied: matplotlib>=2.1.0 in /usr/local/lib/python3.8/dist-packages (from pycocotools) (3.1.3)\n",
            "Requirement already satisfied: numpy in /home/jupyter/.local/lib/python3.8/site-packages (from pycocotools) (1.24.3)\n",
            "Requirement already satisfied: python-dateutil>=2.1 in /kernel/lib/python3.8/site-packages (from matplotlib>=2.1.0->pycocotools) (2.8.2)\n",
            "Requirement already satisfied: pyparsing!=2.0.4,!=2.1.2,!=2.1.6,>=2.0.1 in /kernel/lib/python3.8/site-packages (from matplotlib>=2.1.0->pycocotools) (2.4.7)\n",
            "Requirement already satisfied: cycler>=0.10 in /kernel/lib/python3.8/site-packages (from matplotlib>=2.1.0->pycocotools) (0.11.0)\n",
            "Requirement already satisfied: kiwisolver>=1.0.1 in /kernel/lib/python3.8/site-packages (from matplotlib>=2.1.0->pycocotools) (1.4.4)\n",
            "Requirement already satisfied: six>=1.5 in /kernel/lib/python3.8/site-packages (from python-dateutil>=2.1->matplotlib>=2.1.0->pycocotools) (1.16.0)\n",
            "\u001b[33mWARNING: You are using pip version 21.3.1; however, version 23.1.2 is available.\n",
            "You should consider upgrading via the '/usr/local/bin/python3 -m pip install --upgrade pip' command.\u001b[0m\n"
          ]
        }
      ],
      "source": [
        "#!c1.8\n",
        "%pip install pycocotools"
      ]
    },
    {
      "cell_type": "code",
      "execution_count": null,
      "id": "40cffd18",
      "metadata": {
        "cellId": "ad5v0iia6wiqfjuf967uo",
        "id": "40cffd18",
        "outputId": "46982b55-4279-4aa2-830a-0a087ea11b17"
      },
      "outputs": [
        {
          "name": "stderr",
          "output_type": "stream",
          "text": [
            "2023-06-08 20:10:48.234113: W tensorflow/core/framework/dataset.cc:768] Input of GeneratorDatasetOp::Dataset will not be optimized because the dataset does not implement the AsGraphDefInternal() method needed to apply optimizations.\n",
            "2023-06-08 20:12:48.149775: W tensorflow/core/framework/dataset.cc:768] Input of GeneratorDatasetOp::Dataset will not be optimized because the dataset does not implement the AsGraphDefInternal() method needed to apply optimizations.\n",
            "2023-06-08 20:14:26.914897: W tensorflow/core/framework/dataset.cc:768] Input of GeneratorDatasetOp::Dataset will not be optimized because the dataset does not implement the AsGraphDefInternal() method needed to apply optimizations.\n",
            "2023-06-08 20:16:04.369488: W tensorflow/core/framework/dataset.cc:768] Input of GeneratorDatasetOp::Dataset will not be optimized because the dataset does not implement the AsGraphDefInternal() method needed to apply optimizations.\n",
            "2023-06-08 20:17:41.125253: W tensorflow/core/framework/dataset.cc:768] Input of GeneratorDatasetOp::Dataset will not be optimized because the dataset does not implement the AsGraphDefInternal() method needed to apply optimizations.\n",
            "2023-06-08 20:19:17.891041: W tensorflow/core/framework/dataset.cc:768] Input of GeneratorDatasetOp::Dataset will not be optimized because the dataset does not implement the AsGraphDefInternal() method needed to apply optimizations.\n",
            "2023-06-08 20:21:05.842065: W tensorflow/core/framework/dataset.cc:768] Input of GeneratorDatasetOp::Dataset will not be optimized because the dataset does not implement the AsGraphDefInternal() method needed to apply optimizations.\n",
            "2023-06-08 20:22:42.408136: W tensorflow/core/framework/dataset.cc:768] Input of GeneratorDatasetOp::Dataset will not be optimized because the dataset does not implement the AsGraphDefInternal() method needed to apply optimizations.\n",
            "2023-06-08 20:24:18.530834: W tensorflow/core/framework/dataset.cc:768] Input of GeneratorDatasetOp::Dataset will not be optimized because the dataset does not implement the AsGraphDefInternal() method needed to apply optimizations.\n",
            "2023-06-08 20:25:54.929989: W tensorflow/core/framework/dataset.cc:768] Input of GeneratorDatasetOp::Dataset will not be optimized because the dataset does not implement the AsGraphDefInternal() method needed to apply optimizations.\n",
            "2023-06-08 20:27:31.455654: W tensorflow/core/framework/dataset.cc:768] Input of GeneratorDatasetOp::Dataset will not be optimized because the dataset does not implement the AsGraphDefInternal() method needed to apply optimizations.\n",
            "2023-06-08 20:29:10.550803: W tensorflow/core/framework/dataset.cc:768] Input of GeneratorDatasetOp::Dataset will not be optimized because the dataset does not implement the AsGraphDefInternal() method needed to apply optimizations.\n",
            "2023-06-08 20:30:46.874001: W tensorflow/core/framework/dataset.cc:768] Input of GeneratorDatasetOp::Dataset will not be optimized because the dataset does not implement the AsGraphDefInternal() method needed to apply optimizations.\n",
            "2023-06-08 20:32:23.147198: W tensorflow/core/framework/dataset.cc:768] Input of GeneratorDatasetOp::Dataset will not be optimized because the dataset does not implement the AsGraphDefInternal() method needed to apply optimizations.\n",
            "2023-06-08 20:33:59.746934: W tensorflow/core/framework/dataset.cc:768] Input of GeneratorDatasetOp::Dataset will not be optimized because the dataset does not implement the AsGraphDefInternal() method needed to apply optimizations.\n",
            "2023-06-08 20:35:36.427916: W tensorflow/core/framework/dataset.cc:768] Input of GeneratorDatasetOp::Dataset will not be optimized because the dataset does not implement the AsGraphDefInternal() method needed to apply optimizations.\n",
            "2023-06-08 20:37:15.422106: W tensorflow/core/framework/dataset.cc:768] Input of GeneratorDatasetOp::Dataset will not be optimized because the dataset does not implement the AsGraphDefInternal() method needed to apply optimizations.\n",
            "2023-06-08 20:38:51.773868: W tensorflow/core/framework/dataset.cc:768] Input of GeneratorDatasetOp::Dataset will not be optimized because the dataset does not implement the AsGraphDefInternal() method needed to apply optimizations.\n",
            "2023-06-08 20:40:28.738189: W tensorflow/core/framework/dataset.cc:768] Input of GeneratorDatasetOp::Dataset will not be optimized because the dataset does not implement the AsGraphDefInternal() method needed to apply optimizations.\n",
            "2023-06-08 20:42:05.196016: W tensorflow/core/framework/dataset.cc:768] Input of GeneratorDatasetOp::Dataset will not be optimized because the dataset does not implement the AsGraphDefInternal() method needed to apply optimizations.\n",
            "2023-06-08 20:43:41.480421: W tensorflow/core/framework/dataset.cc:768] Input of GeneratorDatasetOp::Dataset will not be optimized because the dataset does not implement the AsGraphDefInternal() method needed to apply optimizations.\n"
          ]
        },
        {
          "name": "stdout",
          "output_type": "stream",
          "text": [
            "INFO:tensorflow:Retraining the models...\n",
            "Epoch 1/20\n",
            "54/54 [==============================] - 124s 2s/step - det_loss: 1.7241 - cls_loss: 1.1978 - box_loss: 0.0105 - reg_l2_loss: 0.0668 - loss: 1.7909 - learning_rate: 0.0140 - gradient_norm: 0.9965 - val_det_loss: 1.4108 - val_cls_loss: 1.0858 - val_box_loss: 0.0065 - val_reg_l2_loss: 0.0668 - val_loss: 1.4776\n",
            "Epoch 2/20\n",
            "54/54 [==============================] - 97s 2s/step - det_loss: 1.3046 - cls_loss: 1.0253 - box_loss: 0.0056 - reg_l2_loss: 0.0668 - loss: 1.3714 - learning_rate: 0.0197 - gradient_norm: 1.6790 - val_det_loss: 1.0595 - val_cls_loss: 0.8278 - val_box_loss: 0.0046 - val_reg_l2_loss: 0.0669 - val_loss: 1.1264\n",
            "Epoch 3/20\n",
            "54/54 [==============================] - 97s 2s/step - det_loss: 1.0603 - cls_loss: 0.8443 - box_loss: 0.0043 - reg_l2_loss: 0.0669 - loss: 1.1272 - learning_rate: 0.0191 - gradient_norm: 1.5159 - val_det_loss: 0.8382 - val_cls_loss: 0.7008 - val_box_loss: 0.0027 - val_reg_l2_loss: 0.0669 - val_loss: 0.9051\n",
            "Epoch 4/20\n",
            "54/54 [==============================] - 97s 2s/step - det_loss: 0.9303 - cls_loss: 0.7412 - box_loss: 0.0038 - reg_l2_loss: 0.0669 - loss: 0.9971 - learning_rate: 0.0184 - gradient_norm: 1.3887 - val_det_loss: 0.7403 - val_cls_loss: 0.6098 - val_box_loss: 0.0026 - val_reg_l2_loss: 0.0669 - val_loss: 0.8072\n",
            "Epoch 5/20\n",
            "54/54 [==============================] - ETA: 0s - det_loss: 0.8569 - cls_loss: 0.6731 - box_loss: 0.0037 - reg_l2_loss: 0.0669 - loss: 0.9238 - learning_rate: 0.0174 - gradient_norm: 1.4397loading annotations into memory...\n",
            "Done (t=0.00s)\n",
            "creating index...\n",
            "index created!\n",
            "Loading and preparing results...\n",
            "Converting ndarray to lists...\n",
            "(6400, 7)\n",
            "0/6400\n",
            "DONE (t=0.02s)\n",
            "creating index...\n",
            "index created!\n",
            "Running per image evaluation...\n",
            "Evaluate annotation type *bbox*\n",
            "DONE (t=0.39s).\n",
            "Accumulating evaluation results...\n",
            "DONE (t=0.17s).\n",
            " Average Precision  (AP) @[ IoU=0.50:0.95 | area=   all | maxDets=100 ] = 0.248\n",
            " Average Precision  (AP) @[ IoU=0.50      | area=   all | maxDets=100 ] = 0.384\n",
            " Average Precision  (AP) @[ IoU=0.75      | area=   all | maxDets=100 ] = 0.309\n",
            " Average Precision  (AP) @[ IoU=0.50:0.95 | area= small | maxDets=100 ] = -1.000\n",
            " Average Precision  (AP) @[ IoU=0.50:0.95 | area=medium | maxDets=100 ] = 0.309\n",
            " Average Precision  (AP) @[ IoU=0.50:0.95 | area= large | maxDets=100 ] = 0.085\n",
            " Average Recall     (AR) @[ IoU=0.50:0.95 | area=   all | maxDets=  1 ] = 0.300\n",
            " Average Recall     (AR) @[ IoU=0.50:0.95 | area=   all | maxDets= 10 ] = 0.461\n",
            " Average Recall     (AR) @[ IoU=0.50:0.95 | area=   all | maxDets=100 ] = 0.463\n",
            " Average Recall     (AR) @[ IoU=0.50:0.95 | area= small | maxDets=100 ] = -1.000\n",
            " Average Recall     (AR) @[ IoU=0.50:0.95 | area=medium | maxDets=100 ] = 0.523\n",
            " Average Recall     (AR) @[ IoU=0.50:0.95 | area= large | maxDets=100 ] = 0.236\n",
            "54/54 [==============================] - 108s 2s/step - det_loss: 0.8558 - cls_loss: 0.6721 - box_loss: 0.0037 - reg_l2_loss: 0.0669 - loss: 0.9227 - learning_rate: 0.0173 - gradient_norm: 1.4358 - val_det_loss: 0.6364 - val_cls_loss: 0.5383 - val_box_loss: 0.0020 - val_reg_l2_loss: 0.0669 - val_loss: 0.7033\n",
            "Epoch 6/20\n",
            "54/54 [==============================] - 97s 2s/step - det_loss: 0.7634 - cls_loss: 0.6023 - box_loss: 0.0032 - reg_l2_loss: 0.0669 - loss: 0.8303 - learning_rate: 0.0161 - gradient_norm: 1.3669 - val_det_loss: 0.5876 - val_cls_loss: 0.4837 - val_box_loss: 0.0021 - val_reg_l2_loss: 0.0669 - val_loss: 0.6545\n",
            "Epoch 7/20\n",
            "54/54 [==============================] - 97s 2s/step - det_loss: 0.6994 - cls_loss: 0.5441 - box_loss: 0.0031 - reg_l2_loss: 0.0669 - loss: 0.7663 - learning_rate: 0.0148 - gradient_norm: 1.4801 - val_det_loss: 0.5983 - val_cls_loss: 0.4517 - val_box_loss: 0.0029 - val_reg_l2_loss: 0.0669 - val_loss: 0.6653\n",
            "Epoch 8/20\n",
            "54/54 [==============================] - 96s 2s/step - det_loss: 0.6552 - cls_loss: 0.5029 - box_loss: 0.0030 - reg_l2_loss: 0.0669 - loss: 0.7221 - learning_rate: 0.0132 - gradient_norm: 1.5077 - val_det_loss: 0.5330 - val_cls_loss: 0.4276 - val_box_loss: 0.0021 - val_reg_l2_loss: 0.0669 - val_loss: 0.6000\n",
            "Epoch 9/20\n",
            "54/54 [==============================] - 97s 2s/step - det_loss: 0.6072 - cls_loss: 0.4638 - box_loss: 0.0029 - reg_l2_loss: 0.0669 - loss: 0.6741 - learning_rate: 0.0116 - gradient_norm: 1.4854 - val_det_loss: 0.4679 - val_cls_loss: 0.3851 - val_box_loss: 0.0017 - val_reg_l2_loss: 0.0670 - val_loss: 0.5349\n",
            "Epoch 10/20\n",
            "54/54 [==============================] - ETA: 0s - det_loss: 0.5819 - cls_loss: 0.4417 - box_loss: 0.0028 - reg_l2_loss: 0.0670 - loss: 0.6489 - learning_rate: 0.0100 - gradient_norm: 1.5345loading annotations into memory...\n",
            "Done (t=0.00s)\n",
            "creating index...\n",
            "index created!\n",
            "Loading and preparing results...\n",
            "Converting ndarray to lists...\n",
            "(6400, 7)\n",
            "0/6400\n",
            "DONE (t=0.02s)\n",
            "creating index...\n",
            "index created!\n",
            "Running per image evaluation...\n",
            "Evaluate annotation type *bbox*\n",
            "DONE (t=0.43s).\n",
            "Accumulating evaluation results...\n",
            "DONE (t=0.17s).\n",
            " Average Precision  (AP) @[ IoU=0.50:0.95 | area=   all | maxDets=100 ] = 0.466\n",
            " Average Precision  (AP) @[ IoU=0.50      | area=   all | maxDets=100 ] = 0.666\n",
            " Average Precision  (AP) @[ IoU=0.75      | area=   all | maxDets=100 ] = 0.571\n",
            " Average Precision  (AP) @[ IoU=0.50:0.95 | area= small | maxDets=100 ] = -1.000\n",
            " Average Precision  (AP) @[ IoU=0.50:0.95 | area=medium | maxDets=100 ] = 0.597\n",
            " Average Precision  (AP) @[ IoU=0.50:0.95 | area= large | maxDets=100 ] = 0.169\n",
            " Average Recall     (AR) @[ IoU=0.50:0.95 | area=   all | maxDets=  1 ] = 0.479\n",
            " Average Recall     (AR) @[ IoU=0.50:0.95 | area=   all | maxDets= 10 ] = 0.626\n",
            " Average Recall     (AR) @[ IoU=0.50:0.95 | area=   all | maxDets=100 ] = 0.628\n",
            " Average Recall     (AR) @[ IoU=0.50:0.95 | area= small | maxDets=100 ] = -1.000\n",
            " Average Recall     (AR) @[ IoU=0.50:0.95 | area=medium | maxDets=100 ] = 0.749\n",
            " Average Recall     (AR) @[ IoU=0.50:0.95 | area= large | maxDets=100 ] = 0.349\n",
            "54/54 [==============================] - 99s 2s/step - det_loss: 0.5804 - cls_loss: 0.4405 - box_loss: 0.0028 - reg_l2_loss: 0.0670 - loss: 0.6473 - learning_rate: 0.0100 - gradient_norm: 1.5297 - val_det_loss: 0.4412 - val_cls_loss: 0.3606 - val_box_loss: 0.0016 - val_reg_l2_loss: 0.0670 - val_loss: 0.5081\n",
            "Epoch 11/20\n",
            "54/54 [==============================] - 96s 2s/step - det_loss: 0.5495 - cls_loss: 0.4172 - box_loss: 0.0026 - reg_l2_loss: 0.0670 - loss: 0.6165 - learning_rate: 0.0084 - gradient_norm: 1.4303 - val_det_loss: 0.4348 - val_cls_loss: 0.3318 - val_box_loss: 0.0021 - val_reg_l2_loss: 0.0670 - val_loss: 0.5018\n",
            "Epoch 12/20\n",
            "54/54 [==============================] - 96s 2s/step - det_loss: 0.5339 - cls_loss: 0.4047 - box_loss: 0.0026 - reg_l2_loss: 0.0670 - loss: 0.6009 - learning_rate: 0.0068 - gradient_norm: 1.4588 - val_det_loss: 0.3936 - val_cls_loss: 0.3136 - val_box_loss: 0.0016 - val_reg_l2_loss: 0.0670 - val_loss: 0.4606\n",
            "Epoch 13/20\n",
            "54/54 [==============================] - 97s 2s/step - det_loss: 0.5156 - cls_loss: 0.3931 - box_loss: 0.0025 - reg_l2_loss: 0.0670 - loss: 0.5826 - learning_rate: 0.0052 - gradient_norm: 1.4120 - val_det_loss: 0.4257 - val_cls_loss: 0.3099 - val_box_loss: 0.0023 - val_reg_l2_loss: 0.0670 - val_loss: 0.4926\n",
            "Epoch 14/20\n",
            "54/54 [==============================] - 96s 2s/step - det_loss: 0.5238 - cls_loss: 0.3943 - box_loss: 0.0026 - reg_l2_loss: 0.0670 - loss: 0.5908 - learning_rate: 0.0039 - gradient_norm: 1.4959 - val_det_loss: 0.4019 - val_cls_loss: 0.2957 - val_box_loss: 0.0021 - val_reg_l2_loss: 0.0669 - val_loss: 0.4689\n",
            "Epoch 15/20\n",
            "54/54 [==============================] - ETA: 0s - det_loss: 0.4887 - cls_loss: 0.3723 - box_loss: 0.0023 - reg_l2_loss: 0.0669 - loss: 0.5557 - learning_rate: 0.0027 - gradient_norm: 1.3336loading annotations into memory...\n",
            "Done (t=0.00s)\n",
            "creating index...\n",
            "index created!\n",
            "Loading and preparing results...\n",
            "Converting ndarray to lists...\n",
            "(6400, 7)\n",
            "0/6400\n",
            "DONE (t=0.02s)\n",
            "creating index...\n",
            "index created!\n",
            "Running per image evaluation...\n",
            "Evaluate annotation type *bbox*\n",
            "DONE (t=0.41s).\n",
            "Accumulating evaluation results...\n",
            "DONE (t=0.19s).\n",
            " Average Precision  (AP) @[ IoU=0.50:0.95 | area=   all | maxDets=100 ] = 0.553\n",
            " Average Precision  (AP) @[ IoU=0.50      | area=   all | maxDets=100 ] = 0.816\n",
            " Average Precision  (AP) @[ IoU=0.75      | area=   all | maxDets=100 ] = 0.692\n",
            " Average Precision  (AP) @[ IoU=0.50:0.95 | area= small | maxDets=100 ] = -1.000\n",
            " Average Precision  (AP) @[ IoU=0.50:0.95 | area=medium | maxDets=100 ] = 0.674\n",
            " Average Precision  (AP) @[ IoU=0.50:0.95 | area= large | maxDets=100 ] = 0.300\n",
            " Average Recall     (AR) @[ IoU=0.50:0.95 | area=   all | maxDets=  1 ] = 0.543\n",
            " Average Recall     (AR) @[ IoU=0.50:0.95 | area=   all | maxDets= 10 ] = 0.652\n",
            " Average Recall     (AR) @[ IoU=0.50:0.95 | area=   all | maxDets=100 ] = 0.653\n",
            " Average Recall     (AR) @[ IoU=0.50:0.95 | area= small | maxDets=100 ] = -1.000\n",
            " Average Recall     (AR) @[ IoU=0.50:0.95 | area=medium | maxDets=100 ] = 0.751\n",
            " Average Recall     (AR) @[ IoU=0.50:0.95 | area= large | maxDets=100 ] = 0.425\n",
            "54/54 [==============================] - 99s 2s/step - det_loss: 0.4889 - cls_loss: 0.3725 - box_loss: 0.0023 - reg_l2_loss: 0.0669 - loss: 0.5558 - learning_rate: 0.0027 - gradient_norm: 1.3363 - val_det_loss: 0.3755 - val_cls_loss: 0.2892 - val_box_loss: 0.0017 - val_reg_l2_loss: 0.0669 - val_loss: 0.4425\n",
            "Epoch 16/20\n",
            "54/54 [==============================] - 96s 2s/step - det_loss: 0.4938 - cls_loss: 0.3755 - box_loss: 0.0024 - reg_l2_loss: 0.0669 - loss: 0.5608 - learning_rate: 0.0016 - gradient_norm: 1.3648 - val_det_loss: 0.3825 - val_cls_loss: 0.2830 - val_box_loss: 0.0020 - val_reg_l2_loss: 0.0669 - val_loss: 0.4494\n",
            "Epoch 17/20\n",
            "54/54 [==============================] - 97s 2s/step - det_loss: 0.4889 - cls_loss: 0.3709 - box_loss: 0.0024 - reg_l2_loss: 0.0669 - loss: 0.5558 - learning_rate: 8.5326e-04 - gradient_norm: 1.3655 - val_det_loss: 0.3602 - val_cls_loss: 0.2788 - val_box_loss: 0.0016 - val_reg_l2_loss: 0.0669 - val_loss: 0.4271\n",
            "Epoch 18/20\n",
            "54/54 [==============================] - 97s 2s/step - det_loss: 0.4702 - cls_loss: 0.3568 - box_loss: 0.0023 - reg_l2_loss: 0.0669 - loss: 0.5372 - learning_rate: 3.1754e-04 - gradient_norm: 1.3190 - val_det_loss: 0.3613 - val_cls_loss: 0.2763 - val_box_loss: 0.0017 - val_reg_l2_loss: 0.0669 - val_loss: 0.4282\n",
            "Epoch 19/20\n",
            "54/54 [==============================] - 96s 2s/step - det_loss: 0.4796 - cls_loss: 0.3656 - box_loss: 0.0023 - reg_l2_loss: 0.0669 - loss: 0.5466 - learning_rate: 4.5925e-05 - gradient_norm: 1.3224 - val_det_loss: 0.3633 - val_cls_loss: 0.2767 - val_box_loss: 0.0017 - val_reg_l2_loss: 0.0669 - val_loss: 0.4302\n",
            "Epoch 20/20\n",
            "54/54 [==============================] - ETA: 0s - det_loss: 0.4775 - cls_loss: 0.3627 - box_loss: 0.0023 - reg_l2_loss: 0.0669 - loss: 0.5444 - learning_rate: 4.4249e-05 - gradient_norm: 1.2731loading annotations into memory...\n",
            "Done (t=0.00s)\n",
            "creating index...\n",
            "index created!\n",
            "Loading and preparing results...\n",
            "Converting ndarray to lists...\n",
            "(6400, 7)\n",
            "0/6400\n",
            "DONE (t=0.02s)\n",
            "creating index...\n",
            "index created!\n",
            "Running per image evaluation...\n",
            "Evaluate annotation type *bbox*\n",
            "DONE (t=0.41s).\n",
            "Accumulating evaluation results...\n",
            "DONE (t=0.18s).\n",
            " Average Precision  (AP) @[ IoU=0.50:0.95 | area=   all | maxDets=100 ] = 0.569\n",
            " Average Precision  (AP) @[ IoU=0.50      | area=   all | maxDets=100 ] = 0.831\n",
            " Average Precision  (AP) @[ IoU=0.75      | area=   all | maxDets=100 ] = 0.715\n",
            " Average Precision  (AP) @[ IoU=0.50:0.95 | area= small | maxDets=100 ] = -1.000\n",
            " Average Precision  (AP) @[ IoU=0.50:0.95 | area=medium | maxDets=100 ] = 0.686\n",
            " Average Precision  (AP) @[ IoU=0.50:0.95 | area= large | maxDets=100 ] = 0.332\n",
            " Average Recall     (AR) @[ IoU=0.50:0.95 | area=   all | maxDets=  1 ] = 0.558\n",
            " Average Recall     (AR) @[ IoU=0.50:0.95 | area=   all | maxDets= 10 ] = 0.674\n",
            " Average Recall     (AR) @[ IoU=0.50:0.95 | area=   all | maxDets=100 ] = 0.675\n",
            " Average Recall     (AR) @[ IoU=0.50:0.95 | area= small | maxDets=100 ] = -1.000\n",
            " Average Recall     (AR) @[ IoU=0.50:0.95 | area=medium | maxDets=100 ] = 0.763\n",
            " Average Recall     (AR) @[ IoU=0.50:0.95 | area= large | maxDets=100 ] = 0.478\n",
            "54/54 [==============================] - 99s 2s/step - det_loss: 0.4762 - cls_loss: 0.3618 - box_loss: 0.0023 - reg_l2_loss: 0.0669 - loss: 0.5432 - learning_rate: 4.5833e-05 - gradient_norm: 1.2714 - val_det_loss: 0.3613 - val_cls_loss: 0.2764 - val_box_loss: 0.0017 - val_reg_l2_loss: 0.0669 - val_loss: 0.4282\n"
          ]
        }
      ],
      "source": [
        "#!c1.8\n",
        "# Set the number of training epochs and batch size.\n",
        "# Epochs refer to the number of times the model will iterate over the entire training dataset.\n",
        "# Batch size is the number of samples processed before the model is updated.\n",
        "number_of_epochs = 50\n",
        "batch_size = 16\n",
        "\n",
        "# Create and train the object detection model.\n",
        "trained_model = object_detector.create(train_data=training_data, \n",
        "                               model_spec=model_specification, \n",
        "                               validation_data=validation_data, \n",
        "                               epochs=number_of_epochs, \n",
        "                               batch_size=batch_size, \n",
        "                               train_whole_model=True)\n"
      ]
    },
    {
      "cell_type": "code",
      "execution_count": null,
      "id": "c4bcd438",
      "metadata": {
        "cellId": "7dle8d59fzd7t5y9rj8agi",
        "id": "c4bcd438",
        "outputId": "7d163965-e86d-4305-e54d-48d7cfeef01e"
      },
      "outputs": [
        {
          "name": "stdout",
          "output_type": "stream",
          "text": [
            "1/1 [==============================] - 18s 18s/step\n",
            "\n",
            "loading annotations into memory...\n",
            "Done (t=0.00s)\n",
            "creating index...\n",
            "index created!\n",
            "Loading and preparing results...\n",
            "Converting ndarray to lists...\n",
            "(4100, 7)\n",
            "0/4100\n",
            "DONE (t=0.01s)\n",
            "creating index...\n",
            "index created!\n",
            "Running per image evaluation...\n",
            "Evaluate annotation type *bbox*\n",
            "DONE (t=0.25s).\n",
            "Accumulating evaluation results...\n",
            "DONE (t=0.15s).\n",
            " Average Precision  (AP) @[ IoU=0.50:0.95 | area=   all | maxDets=100 ] = 0.570\n",
            " Average Precision  (AP) @[ IoU=0.50      | area=   all | maxDets=100 ] = 0.854\n",
            " Average Precision  (AP) @[ IoU=0.75      | area=   all | maxDets=100 ] = 0.674\n",
            " Average Precision  (AP) @[ IoU=0.50:0.95 | area= small | maxDets=100 ] = -1.000\n",
            " Average Precision  (AP) @[ IoU=0.50:0.95 | area=medium | maxDets=100 ] = 0.674\n",
            " Average Precision  (AP) @[ IoU=0.50:0.95 | area= large | maxDets=100 ] = 0.382\n",
            " Average Recall     (AR) @[ IoU=0.50:0.95 | area=   all | maxDets=  1 ] = 0.560\n",
            " Average Recall     (AR) @[ IoU=0.50:0.95 | area=   all | maxDets= 10 ] = 0.667\n",
            " Average Recall     (AR) @[ IoU=0.50:0.95 | area=   all | maxDets=100 ] = 0.669\n",
            " Average Recall     (AR) @[ IoU=0.50:0.95 | area= small | maxDets=100 ] = -1.000\n",
            " Average Recall     (AR) @[ IoU=0.50:0.95 | area=medium | maxDets=100 ] = 0.754\n",
            " Average Recall     (AR) @[ IoU=0.50:0.95 | area= large | maxDets=100 ] = 0.547\n"
          ]
        },
        {
          "data": {
            "text/plain": [
              "{'AP': 0.5695327,\n",
              " 'AP50': 0.8540035,\n",
              " 'AP75': 0.67381245,\n",
              " 'APs': -1.0,\n",
              " 'APm': 0.67428815,\n",
              " 'APl': 0.38214663,\n",
              " 'ARmax1': 0.56014776,\n",
              " 'ARmax10': 0.6672698,\n",
              " 'ARmax100': 0.66937065,\n",
              " 'ARs': -1.0,\n",
              " 'ARm': 0.7535965,\n",
              " 'ARl': 0.54738665,\n",
              " 'AP_/0': 0.514286,\n",
              " 'AP_/A': 0.5286504,\n",
              " 'AP_/B': 0.56336635,\n",
              " 'AP_/C': 0.3797467,\n",
              " 'AP_/E': 0.5883862,\n",
              " 'AP_/H': 0.65438944,\n",
              " 'AP_/K': 0.3328092,\n",
              " 'AP_/M': 0.60693455,\n",
              " 'AP_/O': 0.7385018,\n",
              " 'AP_/P': 0.66633666,\n",
              " 'AP_/T': 0.506695,\n",
              " 'AP_/X': 0.6699035,\n",
              " 'AP_/Y': 0.6710266,\n",
              " 'AP_/_0': 0.14058568,\n",
              " 'AP_/_1': 0.45015663,\n",
              " 'AP_/_2': 0.65856814,\n",
              " 'AP_/_3': 0.56731045,\n",
              " 'AP_/_4': 0.5483217,\n",
              " 'AP_/_5': 0.6710843,\n",
              " 'AP_/_6': 0.63370585,\n",
              " 'AP_/_7': 0.5008724,\n",
              " 'AP_/_8': 0.73777467,\n",
              " 'AP_/_9': 0.76983947}"
            ]
          },
          "execution_count": 193,
          "metadata": {},
          "output_type": "execute_result"
        }
      ],
      "source": [
        "#!c1.8\n",
        "# Evaluate the performance of the model on the testing data.\n",
        "trained_model.evaluate(testing_data)"
      ]
    },
    {
      "cell_type": "code",
      "execution_count": null,
      "id": "28970e46",
      "metadata": {
        "cellId": "9xdxzqt5o8rougd493arbj",
        "id": "28970e46"
      },
      "outputs": [],
      "source": [
        "#!c1.8\n",
        "TFLITE_FILENAME = 'efficientdet-lite-plates+letters-v1.tflite'\n",
        "LABELS_FILENAME = 'plates+letters-labels.txt'"
      ]
    },
    {
      "cell_type": "code",
      "execution_count": null,
      "id": "39b0e011",
      "metadata": {
        "cellId": "jhamoxr6d6pxbigqfgui",
        "id": "39b0e011",
        "outputId": "4453030c-69bc-4b1f-e16b-d9249391a27b"
      },
      "outputs": [
        {
          "name": "stdout",
          "output_type": "stream",
          "text": [
            "WARNING:tensorflow:Skipping full serialization of Keras layer <tensorflow_examples.lite.model_maker.core.task.model_spec.object_detector_spec.ExportModel object at 0x7fd55cad9880>, because it is not built.\n",
            "INFO:tensorflow:Assets written to: /tmp/tmpg9n75cd3/assets\n",
            "Estimated count of arithmetic ops: 1.830 G  ops, equivalently 0.915 G  MACs\n",
            "Estimated count of arithmetic ops: 1.830 G  ops, equivalently 0.915 G  MACs\n",
            "INFO:tensorflow:Label file is inside the TFLite model with metadata.\n",
            "INFO:tensorflow:Saving labels in /tmp/tmpateqdbhi/labelmap.txt.\n",
            "INFO:tensorflow:TensorFlow Lite model exported successfully: ./efficientdet-lite-plates+letters-v1.tflite\n",
            "WARNING:tensorflow:Export a separated label file even though label file is already inside the TFLite model with metadata.\n",
            "INFO:tensorflow:Saving labels in ./plates+letters-labels.txt.\n"
          ]
        },
        {
          "name": "stderr",
          "output_type": "stream",
          "text": [
            "WARNING:tensorflow:Skipping full serialization of Keras layer <tensorflow_examples.lite.model_maker.core.task.model_spec.object_detector_spec.ExportModel object at 0x7fd55cad9880>, because it is not built.\n",
            "2023-06-08 21:04:17.110252: W tensorflow/python/util/util.cc:368] Sets are not currently considered sequences, but this may change in the future, so consider avoiding using them.\n",
            "WARNING:absl:Found untraced functions such as restored_function_body, restored_function_body, restored_function_body, restored_function_body, restored_function_body while saving (showing 5 of 608). These functions will not be directly callable after loading.\n",
            "INFO:tensorflow:Assets written to: /tmp/tmpg9n75cd3/assets\n",
            "2023-06-08 21:04:39.228903: W tensorflow/core/common_runtime/graph_constructor.cc:803] Node 'resample_p7/PartitionedCall' has 1 outputs but the _output_shapes attribute specifies shapes for 3 outputs. Output shapes may be inaccurate.\n",
            "2023-06-08 21:04:45.019917: W tensorflow/compiler/mlir/lite/python/tf_tfl_flatbuffer_helpers.cc:357] Ignored output_format.\n",
            "2023-06-08 21:04:45.019958: W tensorflow/compiler/mlir/lite/python/tf_tfl_flatbuffer_helpers.cc:360] Ignored drop_control_dependency.\n",
            "fully_quantize: 0, inference_type: 6, input_inference_type: 3, output_inference_type: 0\n",
            "INFO:tensorflow:Label file is inside the TFLite model with metadata.\n",
            "INFO:tensorflow:Saving labels in /tmp/tmpateqdbhi/labelmap.txt.\n",
            "INFO:tensorflow:TensorFlow Lite model exported successfully: ./efficientdet-lite-plates+letters-v1.tflite\n",
            "WARNING:tensorflow:Export a separated label file even though label file is already inside the TFLite model with metadata.\n",
            "INFO:tensorflow:Saving labels in ./plates+letters-labels.txt.\n"
          ]
        }
      ],
      "source": [
        "#!c1.8\n",
        "model.export(export_dir='.', tflite_filename=TFLITE_FILENAME, label_filename=LABELS_FILENAME,\n",
        "             export_format=[ExportFormat.TFLITE, ExportFormat.LABEL])"
      ]
    },
    {
      "cell_type": "code",
      "execution_count": null,
      "id": "e2c729fd",
      "metadata": {
        "cellId": "f5hnwo0y0lso1idb41bwi",
        "id": "e2c729fd",
        "outputId": "b0162ff5-74ab-466b-bf5e-f60c1b13b428"
      },
      "outputs": [
        {
          "name": "stderr",
          "output_type": "stream",
          "text": [
            "INFO: Created TensorFlow Lite XNNPACK delegate for CPU.\n"
          ]
        },
        {
          "name": "stdout",
          "output_type": "stream",
          "text": [
            "41/41 [==============================] - 87s 2s/step\n",
            "\n",
            "loading annotations into memory...\n",
            "Done (t=0.00s)\n",
            "creating index...\n",
            "index created!\n",
            "Loading and preparing results...\n",
            "Converting ndarray to lists...\n",
            "(1025, 7)\n",
            "0/1025\n",
            "DONE (t=0.00s)\n",
            "creating index...\n",
            "index created!\n",
            "Running per image evaluation...\n",
            "Evaluate annotation type *bbox*\n",
            "DONE (t=0.11s).\n",
            "Accumulating evaluation results...\n",
            "DONE (t=0.10s).\n",
            " Average Precision  (AP) @[ IoU=0.50:0.95 | area=   all | maxDets=100 ] = 0.534\n",
            " Average Precision  (AP) @[ IoU=0.50      | area=   all | maxDets=100 ] = 0.795\n",
            " Average Precision  (AP) @[ IoU=0.75      | area=   all | maxDets=100 ] = 0.661\n",
            " Average Precision  (AP) @[ IoU=0.50:0.95 | area= small | maxDets=100 ] = -1.000\n",
            " Average Precision  (AP) @[ IoU=0.50:0.95 | area=medium | maxDets=100 ] = 0.639\n",
            " Average Precision  (AP) @[ IoU=0.50:0.95 | area= large | maxDets=100 ] = 0.345\n",
            " Average Recall     (AR) @[ IoU=0.50:0.95 | area=   all | maxDets=  1 ] = 0.514\n",
            " Average Recall     (AR) @[ IoU=0.50:0.95 | area=   all | maxDets= 10 ] = 0.571\n",
            " Average Recall     (AR) @[ IoU=0.50:0.95 | area=   all | maxDets=100 ] = 0.571\n",
            " Average Recall     (AR) @[ IoU=0.50:0.95 | area= small | maxDets=100 ] = -1.000\n",
            " Average Recall     (AR) @[ IoU=0.50:0.95 | area=medium | maxDets=100 ] = 0.672\n",
            " Average Recall     (AR) @[ IoU=0.50:0.95 | area= large | maxDets=100 ] = 0.389\n"
          ]
        },
        {
          "data": {
            "text/plain": [
              "{'AP': 0.5339691,\n",
              " 'AP50': 0.79545736,\n",
              " 'AP75': 0.66095805,\n",
              " 'APs': -1.0,\n",
              " 'APm': 0.63928705,\n",
              " 'APl': 0.34487382,\n",
              " 'ARmax1': 0.5138124,\n",
              " 'ARmax10': 0.57140535,\n",
              " 'ARmax100': 0.57140535,\n",
              " 'ARs': -1.0,\n",
              " 'ARm': 0.67185074,\n",
              " 'ARl': 0.38948414,\n",
              " 'AP_/0': 0.48851568,\n",
              " 'AP_/A': 0.44092408,\n",
              " 'AP_/B': 0.6207921,\n",
              " 'AP_/C': 0.490099,\n",
              " 'AP_/E': 0.54241514,\n",
              " 'AP_/H': 0.66320133,\n",
              " 'AP_/K': 0.21122113,\n",
              " 'AP_/M': 0.59471947,\n",
              " 'AP_/O': 0.73456275,\n",
              " 'AP_/P': 0.53168315,\n",
              " 'AP_/T': 0.22772278,\n",
              " 'AP_/X': 0.6526403,\n",
              " 'AP_/Y': 0.52871287,\n",
              " 'AP_/_0': 0.103196606,\n",
              " 'AP_/_1': 0.4618482,\n",
              " 'AP_/_2': 0.64326185,\n",
              " 'AP_/_3': 0.5383628,\n",
              " 'AP_/_4': 0.5173509,\n",
              " 'AP_/_5': 0.65228325,\n",
              " 'AP_/_6': 0.63626647,\n",
              " 'AP_/_7': 0.5042194,\n",
              " 'AP_/_8': 0.74719065,\n",
              " 'AP_/_9': 0.750099}"
            ]
          },
          "execution_count": 196,
          "metadata": {},
          "output_type": "execute_result"
        }
      ],
      "source": [
        "#!c1.8\n",
        "model.evaluate_tflite(TFLITE_FILENAME, test_data)"
      ]
    }
  ],
  "metadata": {
    "colab": {
      "provenance": []
    },
    "language_info": {
      "codemirror_mode": {
        "name": "ipython",
        "version": 3
      },
      "file_extension": ".py",
      "mimetype": "text/x-python",
      "name": "python",
      "nbconvert_exporter": "python",
      "pygments_lexer": "ipython3",
      "version": "3.7.7"
    },
    "notebookId": "71d3c6b0-63c5-414c-af4b-369180a8cf92",
    "notebookPath": "Untitled.ipynb"
  },
  "nbformat": 4,
  "nbformat_minor": 5
}

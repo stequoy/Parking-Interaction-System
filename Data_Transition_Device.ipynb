{
  "nbformat": 4,
  "nbformat_minor": 0,
  "metadata": {
    "colab": {
      "provenance": []
    },
    "kernelspec": {
      "name": "python3",
      "display_name": "Python 3"
    },
    "language_info": {
      "name": "python"
    }
  },
  "cells": [
    {
      "cell_type": "markdown",
      "source": [
        "#Data Transition Device Side"
      ],
      "metadata": {
        "id": "SUpxf59-MuYR"
      }
    },
    {
      "cell_type": "markdown",
      "source": [
        "##Here we implement dtata transition between Google Coral and Cloud computational server using cloud database."
      ],
      "metadata": {
        "id": "PTQqlKmqMs-e"
      }
    },
    {
      "cell_type": "markdown",
      "source": [
        "### To perfrom tests, we will use test image of car plate."
      ],
      "metadata": {
        "id": "rnXY2aIeNEm_"
      }
    },
    {
      "cell_type": "code",
      "source": [
        "from PIL import Image\n",
        "import numpy\n",
        " \n",
        " \n",
        "img= Image.open(\"/content/5eb132d54307773bff169aed6d1a7df6-400x225.jpg\")\n",
        "np_img = numpy.array(img)"
      ],
      "metadata": {
        "id": "FVJPqjGMJ-ct"
      },
      "execution_count": null,
      "outputs": []
    },
    {
      "cell_type": "markdown",
      "source": [
        "##This code runs on Google Coral, when data needs to be transmitted."
      ],
      "metadata": {
        "id": "lAw0bmHxNRqD"
      }
    },
    {
      "cell_type": "code",
      "execution_count": null,
      "metadata": {
        "colab": {
          "base_uri": "https://localhost:8080/"
        },
        "id": "wePbRXG3J4Qc",
        "outputId": "106e979b-0eca-4ae3-d594-03a85a91cef6"
      },
      "outputs": [
        {
          "output_type": "stream",
          "name": "stdout",
          "text": [
            "1 3.132169246673584\n"
          ]
        }
      ],
      "source": [
        "import psycopg2\n",
        "import pickle\n",
        "import numpy as np\n",
        "import time\n",
        "start=time.time()\n",
        "def insert_array_and_poll_results(array, id):\n",
        "    # Open a connection\n",
        "    conn = psycopg2.connect(\"host=109.120.191.148 dbname=PostgreSQL-4323 user=user password=0HD9E7L5A0410WYD\")\n",
        "    cursor = conn.cursor()\n",
        "\n",
        "    # Pickle the array and insert it into the arrays table.\n",
        "    pickled_array = pickle.dumps(array)\n",
        "    cursor.execute(\"\"\"\n",
        "        INSERT INTO arrays (id, image) VALUES (%s, %s)\n",
        "    \"\"\", (id, psycopg2.Binary(pickled_array)))\n",
        "    conn.commit()\n",
        "\n",
        "    while True:\n",
        "        # Check the results table for a result with the same id.\n",
        "        cursor.execute(\"\"\"\n",
        "            SELECT result FROM user_results WHERE id = %s\n",
        "        \"\"\", (id,))\n",
        "        row = cursor.fetchone()\n",
        "\n",
        "        if row is not None:\n",
        "            result = row[0]\n",
        "\n",
        "            # Stop polling once we've found a result.\n",
        "            break\n",
        "\n",
        "        # Wait for a bit before checking again.\n",
        "        time.sleep(0.001)\n",
        "\n",
        "    cursor.close()\n",
        "    conn.close()\n",
        "    return result\n",
        "\n",
        "\n",
        "\n",
        "# Insert the array and poll for a result.\n",
        "a = insert_array_and_poll_results(np_img, 666)\n",
        "end=time.time()\n",
        "print(a,end-start)"
      ]
    }
  ]
}
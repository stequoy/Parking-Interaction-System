{
  "nbformat": 4,
  "nbformat_minor": 0,
  "metadata": {
    "colab": {
      "provenance": []
    },
    "kernelspec": {
      "name": "python3",
      "display_name": "Python 3"
    },
    "language_info": {
      "name": "python"
    }
  },
  "cells": [
    {
      "cell_type": "markdown",
      "source": [
        "##This notebook provides a list of functions that were used to create cloud database or some other useful functions used during the development."
      ],
      "metadata": {
        "id": "b-Ivq425RXue"
      }
    },
    {
      "cell_type": "code",
      "source": [
        "import psycopg2\n",
        "\n",
        "conn = psycopg2.connect(\"host=109.120.191.148 dbname=PostgreSQL-4323 user=user password=0HD9E7L5A0410WYD\")\n"
      ],
      "metadata": {
        "id": "7RyMJgisNmJy"
      },
      "execution_count": null,
      "outputs": []
    },
    {
      "cell_type": "markdown",
      "source": [],
      "metadata": {
        "id": "detb865WR7EP"
      }
    },
    {
      "cell_type": "markdown",
      "source": [
        "# Create table\n"
      ],
      "metadata": {
        "id": "cN4LnK4v5AqD"
      }
    },
    {
      "cell_type": "code",
      "source": [
        "def create_table():\n",
        "    # Connect to your postgres DB\n",
        "    conn = psycopg2.connect(\"host=109.120.191.148 dbname=PostgreSQL-4323 user=user password=0HD9E7L5A0410WYD\")\n",
        "\n",
        "\n",
        "    # Open a cursor to perform database operations\n",
        "    cursor = conn.cursor()\n",
        "\n",
        "    # Execute a query\n",
        "    cursor.execute(\"\"\"\n",
        "        CREATE TABLE users (\n",
        "            user_id SERIAL PRIMARY KEY,\n",
        "            tg_id text,\n",
        "            user_name TEXT,\n",
        "            user_surname TEXT,\n",
        "            car_plate TEXT,\n",
        "            user_age INTEGER\n",
        "        )\n",
        "    \"\"\")\n",
        "\n",
        "    # Commit changes\n",
        "    conn.commit()\n",
        "\n",
        "    # Close cursor and the connection\n",
        "    cursor.close()\n",
        "    conn.close()\n",
        "\n",
        "create_table()\n",
        "\n",
        "\n",
        "\n",
        "\n",
        "\n"
      ],
      "metadata": {
        "id": "QYvMcjBP3QxA"
      },
      "execution_count": null,
      "outputs": []
    },
    {
      "cell_type": "code",
      "source": [
        "import psycopg2\n",
        "import numpy as np\n",
        "\n",
        "# Open a connection\n",
        "conn = psycopg2.connect(\"host=109.120.191.148 dbname=PostgreSQL-4323 user=user password=0HD9E7L5A0410WYD\")\n",
        "\n",
        "# Open a cursor to perform database operations\n",
        "cursor = conn.cursor()\n",
        "\n",
        "# Create a table\n",
        "cursor.execute(\"\"\"\n",
        "    CREATE TABLE arrays (\n",
        "        id INTEGER PRIMARY KEY,\n",
        "        image BYTEA,\n",
        "        result INT\n",
        "    )\n",
        "\"\"\")\n",
        "\n",
        "conn.commit()\n",
        "cursor.close()\n",
        "conn.close()"
      ],
      "metadata": {
        "id": "QglBBcNL1cn0"
      },
      "execution_count": null,
      "outputs": []
    },
    {
      "cell_type": "code",
      "source": [
        "import psycopg2\n",
        "\n",
        "# Open a connection\n",
        "conn = psycopg2.connect(\"host=109.120.191.148 dbname=PostgreSQL-4323 user=user password=0HD9E7L5A0410WYD\")\n",
        "cursor = conn.cursor()\n",
        "\n",
        "# Create a table\n",
        "cursor.execute(\"\"\"\n",
        "    CREATE TABLE user_results (\n",
        "        id INTEGER PRIMARY KEY,\n",
        "        result INTEGER\n",
        "    )\n",
        "\"\"\")\n",
        "\n",
        "conn.commit()\n",
        "cursor.close()\n",
        "conn.close()"
      ],
      "metadata": {
        "id": "j-dJOteTnBFr"
      },
      "execution_count": null,
      "outputs": []
    },
    {
      "cell_type": "markdown",
      "source": [
        "# Delete observation from array table using id"
      ],
      "metadata": {
        "id": "j2rTbvIS2Mqu"
      }
    },
    {
      "cell_type": "code",
      "source": [
        "import psycopg2\n",
        "\n",
        "def delete_array(id):\n",
        "    # Open a connection\n",
        "    conn = psycopg2.connect(\"host=109.120.191.148 dbname=PostgreSQL-4323 user=user password=0HD9E7L5A0410WYD\")\n",
        "    cursor = conn.cursor()\n",
        "\n",
        "    # Delete the row with the specified id from the arrays table\n",
        "    cursor.execute(\"\"\"\n",
        "        DELETE FROM arrays WHERE id = %s\n",
        "    \"\"\", (id,))\n",
        "\n",
        "    conn.commit()\n",
        "    cursor.close()\n",
        "    conn.close()\n",
        "\n",
        "# Delete the array with id 1\n",
        "delete_array(666)"
      ],
      "metadata": {
        "id": "YLt2wFcm2MeP"
      },
      "execution_count": null,
      "outputs": []
    },
    {
      "cell_type": "markdown",
      "source": [
        "# Insert data"
      ],
      "metadata": {
        "id": "PpXr0YM84uOe"
      }
    },
    {
      "cell_type": "code",
      "source": [
        "import psycopg2\n",
        "\n",
        "def insert_user(user_name, user_surname, car_plate, user_age):\n",
        "    # Connect to your postgres DB\n",
        "    conn = psycopg2.connect(\"host=109.120.191.148 dbname=PostgreSQL-4323 user=user password=0HD9E7L5A0410WYD\")\n",
        "\n",
        "    # Open a cursor to perform database operations\n",
        "    cursor = conn.cursor()\n",
        "\n",
        "    # Prepare the INSERT INTO SQL query.\n",
        "    query = \"\"\"\n",
        "        INSERT INTO users (user_name, user_surname, car_plate, user_age)\n",
        "        VALUES (%s, %s, %s, %s)\n",
        "    \"\"\"\n",
        "\n",
        "    # Execute the query with the given inputs.\n",
        "    cursor.execute(query, (user_name, user_surname, car_plate, user_age))\n",
        "\n",
        "    # Commit the transaction.\n",
        "    conn.commit()\n",
        "\n",
        "    # Close the cursor and connection.\n",
        "    cursor.close()\n",
        "    conn.close()\n",
        "\n",
        "insert_user('John', 'Doe', 'н700уу37', 30)"
      ],
      "metadata": {
        "id": "XOiV0_V74w0c"
      },
      "execution_count": null,
      "outputs": []
    },
    {
      "cell_type": "code",
      "source": [
        "import numpy as np\n",
        "import pickle\n",
        "\n",
        "def insert_array(array):\n",
        "    # Open a connection\n",
        "    conn = psycopg2.connect(\"host=109.120.191.148 dbname=PostgreSQL-4323 user=user password=0HD9E7L5A0410WYD\")\n",
        "    cursor = conn.cursor()\n",
        "\n",
        "    # Serialize the Numpy array to a binary format\n",
        "    pickled_array = pickle.dumps(array)\n",
        "\n",
        "    # Insert the pickled array into the table\n",
        "    cursor.execute(\"\"\"\n",
        "        INSERT INTO arrays (data)\n",
        "        VALUES (%s)\n",
        "    \"\"\", (psycopg2.Binary(pickled_array),))\n",
        "\n",
        "    conn.commit()\n",
        "    cursor.close()\n",
        "    conn.close()\n",
        "\n",
        "insert_array(array)"
      ],
      "metadata": {
        "id": "gxcawAz12dHQ"
      },
      "execution_count": null,
      "outputs": []
    },
    {
      "cell_type": "markdown",
      "source": [
        "# Print out the table"
      ],
      "metadata": {
        "id": "4RaTd-2N5JDA"
      }
    },
    {
      "cell_type": "code",
      "source": [
        "import psycopg2\n",
        "\n",
        "def print_table():\n",
        "    # Connect to your postgres DB\n",
        "    conn = psycopg2.connect(\"host=109.120.191.148 dbname=PostgreSQL-4323 user=user password=0HD9E7L5A0410WYD\")\n",
        "\n",
        "    # Open a cursor to perform database operations\n",
        "    cursor = conn.cursor()\n",
        "\n",
        "    # Execute a query\n",
        "    cursor.execute(\"SELECT * FROM users\")\n",
        "\n",
        "    # Fetch all rows from the result of the query\n",
        "    rows = cursor.fetchall()\n",
        "\n",
        "    # Print out the rows\n",
        "    for row in rows:\n",
        "        print(row)\n",
        "\n",
        "    # Close cursor and the connection\n",
        "    cursor.close()\n",
        "    conn.close()\n",
        "\n",
        "print_table()"
      ],
      "metadata": {
        "id": "Us5Mlnn85OTZ",
        "colab": {
          "base_uri": "https://localhost:8080/"
        },
        "outputId": "6e2aa50c-3ea9-413b-b47d-d3ed061fba67"
      },
      "execution_count": null,
      "outputs": [
        {
          "output_type": "stream",
          "name": "stdout",
          "text": [
            "(1, None, 'John', 'Doe', 'ABC-123', 30)\n",
            "(2, '642389543', 'Stepan', 'Svirin', 'AC233GC', 20)\n",
            "(3, None, 'John', 'Doe', 'н700уу37', 30)\n"
          ]
        }
      ]
    },
    {
      "cell_type": "markdown",
      "source": [
        "#Checking if the user with a certain car plate number is registered"
      ],
      "metadata": {
        "id": "jY2dZJ-WQ751"
      }
    },
    {
      "cell_type": "code",
      "source": [
        "def search_user_by_plate(car_plate):\n",
        "    conn = psycopg2.connect(\"host=109.120.191.148 dbname=PostgreSQL-4323 user=user password=0HD9E7L5A0410WYD\")\n",
        "\n",
        "    # Open a cursor to perform database operations\n",
        "    cursor = conn.cursor()\n",
        "\n",
        "    # Prepare the SELECT SQL query.\n",
        "    query = \"\"\"\n",
        "        SELECT * FROM users WHERE car_plate = %s\n",
        "    \"\"\"\n",
        "\n",
        "    # Execute the query with the given car plate.\n",
        "    cursor.execute(query, (car_plate,))\n",
        "\n",
        "    # Fetch the row from the result of the query\n",
        "    row = cursor.fetchone()\n",
        "\n",
        "    # If a row was found, print it out.\n",
        "    if row is not None:\n",
        "        result = False\n",
        "    else:\n",
        "        result = True\n",
        "\n",
        "    # Close cursor and the connection\n",
        "    cursor.close()\n",
        "    conn.close()\n",
        "\n",
        "    return result\n",
        "\n",
        "search_user_by_plate('ABC-123')"
      ],
      "metadata": {
        "colab": {
          "base_uri": "https://localhost:8080/"
        },
        "id": "bhaxbO_gnU-a",
        "outputId": "6d1bd5bd-3688-47f2-848e-846b58b51702"
      },
      "execution_count": null,
      "outputs": [
        {
          "output_type": "stream",
          "name": "stdout",
          "text": [
            "The user exists\n"
          ]
        }
      ]
    },
    {
      "cell_type": "markdown",
      "source": [
        "# Delete table"
      ],
      "metadata": {
        "id": "Mx36ZPut7bBG"
      }
    },
    {
      "cell_type": "code",
      "source": [
        "import psycopg2\n",
        "\n",
        "def delete_table():\n",
        "    # Connect to your postgres DB\n",
        "    conn = psycopg2.connect(\"host=109.120.191.148 dbname=PostgreSQL-4323 user=user password=0HD9E7L5A0410WYD\")\n",
        "    # Open a cursor to perform database operations\n",
        "    cursor = conn.cursor()\n",
        "\n",
        "    # Execute a query\n",
        "    cursor.execute(\"DROP TABLE user_results\")\n",
        "\n",
        "    # Commit changes\n",
        "    conn.commit()\n",
        "\n",
        "    # Close cursor and the connection\n",
        "    cursor.close()\n",
        "    conn.close()\n",
        "\n",
        "delete_table()"
      ],
      "metadata": {
        "id": "8K7xw6497ZVk"
      },
      "execution_count": null,
      "outputs": []
    }
  ]
}